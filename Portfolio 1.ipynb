{
 "cells": [
  {
   "cell_type": "markdown",
   "metadata": {},
   "source": [
    "### Conducted by: Ivy Ly\n",
    "### binhnhily.ivy@outlook.com.au"
   ]
  },
  {
   "cell_type": "code",
   "execution_count": 110,
   "metadata": {},
   "outputs": [],
   "source": [
    "import pandas as pd\n",
    "from matplotlib import pyplot as plt\n",
    "from datetime import timedelta\n",
    "plt.style.use('seaborn')\n",
    "%matplotlib inline\n",
    "import warnings\n",
    "warnings.filterwarnings(\"ignore\")"
   ]
  },
  {
   "cell_type": "markdown",
   "metadata": {},
   "source": [
    "# Analysis of Cycling Data\n",
    "\n",
    "## Loading Data\n",
    "\n",
    "The first dataset is an export of my ride data from [Strava](https://strava.com/), an online social \n",
    "network site for cycling and other sports.  This data is a log of every ride since the start of 2018\n",
    "and contains summary data like the distance and average speed.  It was exported using \n",
    "the script `stravaget.py` which uses the stravalib module to read data. Some details of\n",
    "the fields exported by that script can be seen in [the documentation for stravalib](https://pythonhosted.org/stravalib/api.html#stravalib.model.Activity). \n",
    "\n",
    "The exported data is a CSV file so that's easy to read, however the date information in the file is \n",
    "recorded in a different timezone (UTC) so we need to do a bit of conversion.  In reading the data I'm\n",
    "setting the index of the data frame to be the datetime of the ride. \n",
    "\n",
    "If the below cell gives error in `tz_localize`, use `tz_convert` as Pandas is time zone aware. "
   ]
  },
  {
   "cell_type": "code",
   "execution_count": 111,
   "metadata": {},
   "outputs": [
    {
     "data": {
      "text/html": [
       "<div>\n",
       "<style scoped>\n",
       "    .dataframe tbody tr th:only-of-type {\n",
       "        vertical-align: middle;\n",
       "    }\n",
       "\n",
       "    .dataframe tbody tr th {\n",
       "        vertical-align: top;\n",
       "    }\n",
       "\n",
       "    .dataframe thead th {\n",
       "        text-align: right;\n",
       "    }\n",
       "</style>\n",
       "<table border=\"1\" class=\"dataframe\">\n",
       "  <thead>\n",
       "    <tr style=\"text-align: right;\">\n",
       "      <th></th>\n",
       "      <th>average_heartrate</th>\n",
       "      <th>average_temp</th>\n",
       "      <th>average_watts</th>\n",
       "      <th>device_watts</th>\n",
       "      <th>distance</th>\n",
       "      <th>elapsed_time</th>\n",
       "      <th>elevation_gain</th>\n",
       "      <th>kudos</th>\n",
       "      <th>moving_time</th>\n",
       "      <th>workout_type</th>\n",
       "    </tr>\n",
       "    <tr>\n",
       "      <th>date</th>\n",
       "      <th></th>\n",
       "      <th></th>\n",
       "      <th></th>\n",
       "      <th></th>\n",
       "      <th></th>\n",
       "      <th></th>\n",
       "      <th></th>\n",
       "      <th></th>\n",
       "      <th></th>\n",
       "      <th></th>\n",
       "    </tr>\n",
       "  </thead>\n",
       "  <tbody>\n",
       "    <tr>\n",
       "      <th>2018-01-02 20:47:51+00:00</th>\n",
       "      <td>100.6</td>\n",
       "      <td>21.0</td>\n",
       "      <td>73.8</td>\n",
       "      <td>False</td>\n",
       "      <td>15.2</td>\n",
       "      <td>94</td>\n",
       "      <td>316.00 m</td>\n",
       "      <td>10</td>\n",
       "      <td>73</td>\n",
       "      <td>Ride</td>\n",
       "    </tr>\n",
       "    <tr>\n",
       "      <th>2018-01-04 01:36:53+00:00</th>\n",
       "      <td>NaN</td>\n",
       "      <td>24.0</td>\n",
       "      <td>131.7</td>\n",
       "      <td>False</td>\n",
       "      <td>18.0</td>\n",
       "      <td>52</td>\n",
       "      <td>236.00 m</td>\n",
       "      <td>5</td>\n",
       "      <td>46</td>\n",
       "      <td>Ride</td>\n",
       "    </tr>\n",
       "    <tr>\n",
       "      <th>2018-01-04 02:56:00+00:00</th>\n",
       "      <td>83.1</td>\n",
       "      <td>25.0</td>\n",
       "      <td>13.8</td>\n",
       "      <td>False</td>\n",
       "      <td>0.0</td>\n",
       "      <td>3</td>\n",
       "      <td>0.00 m</td>\n",
       "      <td>2</td>\n",
       "      <td>2</td>\n",
       "      <td>Ride</td>\n",
       "    </tr>\n",
       "    <tr>\n",
       "      <th>2018-01-04 05:37:04+00:00</th>\n",
       "      <td>110.1</td>\n",
       "      <td>24.0</td>\n",
       "      <td>113.6</td>\n",
       "      <td>False</td>\n",
       "      <td>22.9</td>\n",
       "      <td>77</td>\n",
       "      <td>246.00 m</td>\n",
       "      <td>8</td>\n",
       "      <td>64</td>\n",
       "      <td>Ride</td>\n",
       "    </tr>\n",
       "    <tr>\n",
       "      <th>2018-01-05 19:22:46+00:00</th>\n",
       "      <td>110.9</td>\n",
       "      <td>20.0</td>\n",
       "      <td>147.7</td>\n",
       "      <td>True</td>\n",
       "      <td>58.4</td>\n",
       "      <td>189</td>\n",
       "      <td>676.00 m</td>\n",
       "      <td>12</td>\n",
       "      <td>144</td>\n",
       "      <td>Ride</td>\n",
       "    </tr>\n",
       "  </tbody>\n",
       "</table>\n",
       "</div>"
      ],
      "text/plain": [
       "                           average_heartrate  average_temp  average_watts  \\\n",
       "date                                                                        \n",
       "2018-01-02 20:47:51+00:00              100.6          21.0           73.8   \n",
       "2018-01-04 01:36:53+00:00                NaN          24.0          131.7   \n",
       "2018-01-04 02:56:00+00:00               83.1          25.0           13.8   \n",
       "2018-01-04 05:37:04+00:00              110.1          24.0          113.6   \n",
       "2018-01-05 19:22:46+00:00              110.9          20.0          147.7   \n",
       "\n",
       "                          device_watts  distance  elapsed_time elevation_gain  \\\n",
       "date                                                                            \n",
       "2018-01-02 20:47:51+00:00        False      15.2            94       316.00 m   \n",
       "2018-01-04 01:36:53+00:00        False      18.0            52       236.00 m   \n",
       "2018-01-04 02:56:00+00:00        False       0.0             3         0.00 m   \n",
       "2018-01-04 05:37:04+00:00        False      22.9            77       246.00 m   \n",
       "2018-01-05 19:22:46+00:00         True      58.4           189       676.00 m   \n",
       "\n",
       "                           kudos  moving_time workout_type  \n",
       "date                                                        \n",
       "2018-01-02 20:47:51+00:00     10           73         Ride  \n",
       "2018-01-04 01:36:53+00:00      5           46         Ride  \n",
       "2018-01-04 02:56:00+00:00      2            2         Ride  \n",
       "2018-01-04 05:37:04+00:00      8           64         Ride  \n",
       "2018-01-05 19:22:46+00:00     12          144         Ride  "
      ]
     },
     "execution_count": 111,
     "metadata": {},
     "output_type": "execute_result"
    }
   ],
   "source": [
    "strava = pd.read_csv('data/strava_export.csv', index_col='date', parse_dates=True)\n",
    "strava.index = strava.index.tz_convert('UTC')\n",
    "strava.head()"
   ]
  },
  {
   "cell_type": "markdown",
   "metadata": {},
   "source": [
    "The second dataset comes from an application called [GoldenCheetah](https://www.goldencheetah.org/) which provides\n",
    "some analytics services over ride data.  This has some of the same fields but adds a lot of analysis of the \n",
    "power, speed and heart rate data in each ride.  This data overlaps with the Strava data but doesn't include all \n",
    "of the same rides. \n",
    "\n",
    "Again we create an index using the datetime for each ride, this time combining two columns in the data (date and time) \n",
    "and localising to Sydney so that the times match those for the Strava data. "
   ]
  },
  {
   "cell_type": "code",
   "execution_count": 112,
   "metadata": {
    "scrolled": true
   },
   "outputs": [
    {
     "data": {
      "text/html": [
       "<div>\n",
       "<style scoped>\n",
       "    .dataframe tbody tr th:only-of-type {\n",
       "        vertical-align: middle;\n",
       "    }\n",
       "\n",
       "    .dataframe tbody tr th {\n",
       "        vertical-align: top;\n",
       "    }\n",
       "\n",
       "    .dataframe thead th {\n",
       "        text-align: right;\n",
       "    }\n",
       "</style>\n",
       "<table border=\"1\" class=\"dataframe\">\n",
       "  <thead>\n",
       "    <tr style=\"text-align: right;\">\n",
       "      <th></th>\n",
       "      <th>date</th>\n",
       "      <th>time</th>\n",
       "      <th>filename</th>\n",
       "      <th>axPower</th>\n",
       "      <th>aPower Relative Intensity</th>\n",
       "      <th>aBikeScore</th>\n",
       "      <th>Skiba aVI</th>\n",
       "      <th>aPower Response Index</th>\n",
       "      <th>aIsoPower</th>\n",
       "      <th>aIF</th>\n",
       "      <th>...</th>\n",
       "      <th>Rest AVNN</th>\n",
       "      <th>Rest SDNN</th>\n",
       "      <th>Rest rMSSD</th>\n",
       "      <th>Rest PNN50</th>\n",
       "      <th>Rest LF</th>\n",
       "      <th>Rest HF</th>\n",
       "      <th>HRV Recovery Points</th>\n",
       "      <th>NP</th>\n",
       "      <th>IF</th>\n",
       "      <th>TSS</th>\n",
       "    </tr>\n",
       "  </thead>\n",
       "  <tbody>\n",
       "    <tr>\n",
       "      <th>2018-01-28 06:39:49+11:00</th>\n",
       "      <td>01/28/18</td>\n",
       "      <td>06:39:49</td>\n",
       "      <td>2018_01_28_06_39_49.json</td>\n",
       "      <td>202.211</td>\n",
       "      <td>0.75452</td>\n",
       "      <td>16.6520</td>\n",
       "      <td>1.31920</td>\n",
       "      <td>1.67755</td>\n",
       "      <td>223.621</td>\n",
       "      <td>0.83441</td>\n",
       "      <td>...</td>\n",
       "      <td>0</td>\n",
       "      <td>0</td>\n",
       "      <td>0</td>\n",
       "      <td>0</td>\n",
       "      <td>0</td>\n",
       "      <td>0</td>\n",
       "      <td>0</td>\n",
       "      <td>222.856</td>\n",
       "      <td>0.83155</td>\n",
       "      <td>20.2257</td>\n",
       "    </tr>\n",
       "    <tr>\n",
       "      <th>2018-01-28 07:01:32+11:00</th>\n",
       "      <td>01/28/18</td>\n",
       "      <td>07:01:32</td>\n",
       "      <td>2018_01_28_07_01_32.json</td>\n",
       "      <td>226.039</td>\n",
       "      <td>0.84343</td>\n",
       "      <td>80.2669</td>\n",
       "      <td>1.21137</td>\n",
       "      <td>1.54250</td>\n",
       "      <td>246.185</td>\n",
       "      <td>0.91860</td>\n",
       "      <td>...</td>\n",
       "      <td>0</td>\n",
       "      <td>0</td>\n",
       "      <td>0</td>\n",
       "      <td>0</td>\n",
       "      <td>0</td>\n",
       "      <td>0</td>\n",
       "      <td>0</td>\n",
       "      <td>245.365</td>\n",
       "      <td>0.91554</td>\n",
       "      <td>94.5787</td>\n",
       "    </tr>\n",
       "    <tr>\n",
       "      <th>2018-02-01 08:13:34+11:00</th>\n",
       "      <td>02/01/18</td>\n",
       "      <td>08:13:34</td>\n",
       "      <td>2018_02_01_08_13_34.json</td>\n",
       "      <td>0.000</td>\n",
       "      <td>0.00000</td>\n",
       "      <td>0.0000</td>\n",
       "      <td>0.00000</td>\n",
       "      <td>0.00000</td>\n",
       "      <td>0.000</td>\n",
       "      <td>0.00000</td>\n",
       "      <td>...</td>\n",
       "      <td>0</td>\n",
       "      <td>0</td>\n",
       "      <td>0</td>\n",
       "      <td>0</td>\n",
       "      <td>0</td>\n",
       "      <td>0</td>\n",
       "      <td>0</td>\n",
       "      <td>0.000</td>\n",
       "      <td>0.00000</td>\n",
       "      <td>0.0000</td>\n",
       "    </tr>\n",
       "    <tr>\n",
       "      <th>2018-02-06 08:06:42+11:00</th>\n",
       "      <td>02/06/18</td>\n",
       "      <td>08:06:42</td>\n",
       "      <td>2018_02_06_08_06_42.json</td>\n",
       "      <td>221.672</td>\n",
       "      <td>0.82714</td>\n",
       "      <td>78.8866</td>\n",
       "      <td>1.35775</td>\n",
       "      <td>1.86002</td>\n",
       "      <td>254.409</td>\n",
       "      <td>0.94929</td>\n",
       "      <td>...</td>\n",
       "      <td>0</td>\n",
       "      <td>0</td>\n",
       "      <td>0</td>\n",
       "      <td>0</td>\n",
       "      <td>0</td>\n",
       "      <td>0</td>\n",
       "      <td>0</td>\n",
       "      <td>253.702</td>\n",
       "      <td>0.94665</td>\n",
       "      <td>98.3269</td>\n",
       "    </tr>\n",
       "    <tr>\n",
       "      <th>2018-02-07 17:59:05+11:00</th>\n",
       "      <td>02/07/18</td>\n",
       "      <td>17:59:05</td>\n",
       "      <td>2018_02_07_17_59_05.json</td>\n",
       "      <td>218.211</td>\n",
       "      <td>0.81422</td>\n",
       "      <td>159.4590</td>\n",
       "      <td>1.47188</td>\n",
       "      <td>1.74658</td>\n",
       "      <td>233.780</td>\n",
       "      <td>0.87231</td>\n",
       "      <td>...</td>\n",
       "      <td>0</td>\n",
       "      <td>0</td>\n",
       "      <td>0</td>\n",
       "      <td>0</td>\n",
       "      <td>0</td>\n",
       "      <td>0</td>\n",
       "      <td>0</td>\n",
       "      <td>232.644</td>\n",
       "      <td>0.86808</td>\n",
       "      <td>171.0780</td>\n",
       "    </tr>\n",
       "  </tbody>\n",
       "</table>\n",
       "<p>5 rows × 362 columns</p>\n",
       "</div>"
      ],
      "text/plain": [
       "                               date      time                  filename  \\\n",
       "2018-01-28 06:39:49+11:00  01/28/18  06:39:49  2018_01_28_06_39_49.json   \n",
       "2018-01-28 07:01:32+11:00  01/28/18  07:01:32  2018_01_28_07_01_32.json   \n",
       "2018-02-01 08:13:34+11:00  02/01/18  08:13:34  2018_02_01_08_13_34.json   \n",
       "2018-02-06 08:06:42+11:00  02/06/18  08:06:42  2018_02_06_08_06_42.json   \n",
       "2018-02-07 17:59:05+11:00  02/07/18  17:59:05  2018_02_07_17_59_05.json   \n",
       "\n",
       "                           axPower  aPower Relative Intensity  aBikeScore  \\\n",
       "2018-01-28 06:39:49+11:00  202.211                    0.75452     16.6520   \n",
       "2018-01-28 07:01:32+11:00  226.039                    0.84343     80.2669   \n",
       "2018-02-01 08:13:34+11:00    0.000                    0.00000      0.0000   \n",
       "2018-02-06 08:06:42+11:00  221.672                    0.82714     78.8866   \n",
       "2018-02-07 17:59:05+11:00  218.211                    0.81422    159.4590   \n",
       "\n",
       "                           Skiba aVI  aPower Response Index  aIsoPower  \\\n",
       "2018-01-28 06:39:49+11:00    1.31920                1.67755    223.621   \n",
       "2018-01-28 07:01:32+11:00    1.21137                1.54250    246.185   \n",
       "2018-02-01 08:13:34+11:00    0.00000                0.00000      0.000   \n",
       "2018-02-06 08:06:42+11:00    1.35775                1.86002    254.409   \n",
       "2018-02-07 17:59:05+11:00    1.47188                1.74658    233.780   \n",
       "\n",
       "                               aIF  ...  Rest AVNN  Rest SDNN  Rest rMSSD  \\\n",
       "2018-01-28 06:39:49+11:00  0.83441  ...          0          0           0   \n",
       "2018-01-28 07:01:32+11:00  0.91860  ...          0          0           0   \n",
       "2018-02-01 08:13:34+11:00  0.00000  ...          0          0           0   \n",
       "2018-02-06 08:06:42+11:00  0.94929  ...          0          0           0   \n",
       "2018-02-07 17:59:05+11:00  0.87231  ...          0          0           0   \n",
       "\n",
       "                           Rest PNN50  Rest LF  Rest HF  HRV Recovery Points  \\\n",
       "2018-01-28 06:39:49+11:00           0        0        0                    0   \n",
       "2018-01-28 07:01:32+11:00           0        0        0                    0   \n",
       "2018-02-01 08:13:34+11:00           0        0        0                    0   \n",
       "2018-02-06 08:06:42+11:00           0        0        0                    0   \n",
       "2018-02-07 17:59:05+11:00           0        0        0                    0   \n",
       "\n",
       "                                NP       IF       TSS  \n",
       "2018-01-28 06:39:49+11:00  222.856  0.83155   20.2257  \n",
       "2018-01-28 07:01:32+11:00  245.365  0.91554   94.5787  \n",
       "2018-02-01 08:13:34+11:00    0.000  0.00000    0.0000  \n",
       "2018-02-06 08:06:42+11:00  253.702  0.94665   98.3269  \n",
       "2018-02-07 17:59:05+11:00  232.644  0.86808  171.0780  \n",
       "\n",
       "[5 rows x 362 columns]"
      ]
     },
     "execution_count": 112,
     "metadata": {},
     "output_type": "execute_result"
    }
   ],
   "source": [
    "cheetah = pd.read_csv('data/cheetah.csv', skipinitialspace=True)\n",
    "cheetah.index = pd.to_datetime(cheetah['date'] + ' ' + cheetah['time'])\n",
    "cheetah.index = cheetah.index.tz_localize('Australia/Sydney')\n",
    "cheetah.head()"
   ]
  },
  {
   "cell_type": "markdown",
   "metadata": {},
   "source": [
    "The GoldenCheetah data contains many many variables (columns) and we won't go into all of them here. Some\n",
    "that are of particular interest for the analysis below are:\n",
    "\n",
    "Here are definitions of some of the more important fields in the data. Capitalised fields come from the GoldenCheetah data\n",
    "while lowercase_fields come from Strava. There are many cases where fields are duplicated and in this case the values\n",
    "should be the same, although there is room for variation as the algorithm used to calculate them could be different\n",
    "in each case. \n",
    "\n",
    "  * Duration - overall duration of the ride, should be same as elapsed_time\n",
    "  * Time Moving - time spent moving (not resting or waiting at lights), should be the same as moving_time\n",
    "  * Elevation Gain - metres climbed over the ride\n",
    "  * Average Speed - over the ride\n",
    "  * Average Power - average power in watts as measured by a power meter, relates to how much effort is being put in to the ride, should be the same as  * average_watts' from Strava\n",
    "  * Nonzero Average Power - same as Average Power but excludes times when power is zero from the average\n",
    "  * Average Heart Rate - should be the same as average_heartrate\n",
    "  * Average Cadence - cadence is the rotations per minute of the pedals\n",
    "  * Average Temp - temperature in the environment as measured by the bike computer (should be same as average_temp)\n",
    "  * VAM - average ascent speed - speed up hills\n",
    "  * Calories (HR) - Calorie expendature as estimated from heart rate data\n",
    "  * 1 sec Peak Power - this and other  'Peak Power' measures give the maximum power output in the ride over this time period.  Will be higher for shorter periods. High values in short periods would come from a very 'punchy' ride with sprints for example.\n",
    "  * 1 min Peak Hr - a similar measure relating to Heart Rate\n",
    "  * NP - Normalised Power, a smoothed average power measurement, generally higher than Average Power \n",
    "  * TSS - Training Stress Score, a measure of how hard a ride this was\n",
    "  * device_watts - True if the power (watts) measures were from a power meter, False if they were estimated\n",
    "  * distance - distance travelled in Km\n",
    "  * kudos - likes from other Strava users (social network)\n",
    "  * workout_type - one of  'Race',  'Workout' or  'Ride'\n",
    "  \n",
    "  \n",
    "Some of the GoldenCheetah parameters are defined [in thier documentation](https://github.com/GoldenCheetah/GoldenCheetah/wiki/UG_Glossary).  "
   ]
  },
  {
   "cell_type": "markdown",
   "metadata": {},
   "source": [
    "## Combining Cheetah and Strava dataframes\n",
    "\n",
    "The goal is to keep only those rows of data \n",
    "that appear in __both__ data frames so that we have complete data for every row.  "
   ]
  },
  {
   "cell_type": "code",
   "execution_count": 113,
   "metadata": {
    "tags": []
   },
   "outputs": [
    {
     "name": "stdout",
     "output_type": "stream",
     "text": [
      "                           average_heartrate  average_temp  average_watts  \\\n",
      "2018-01-27 19:39:49+00:00              120.6          21.0          153.4   \n",
      "2018-01-27 20:01:32+00:00              146.9          22.0          187.7   \n",
      "2018-01-31 21:13:34+00:00              109.8          19.0          143.0   \n",
      "2018-02-05 21:06:42+00:00              119.3          19.0          165.9   \n",
      "2018-02-07 06:59:05+00:00              124.8          20.0          151.0   \n",
      "\n",
      "                          device_watts  distance  elapsed_time elevation_gain  \\\n",
      "2018-01-27 19:39:49+00:00         True       7.6            17        95.00 m   \n",
      "2018-01-27 20:01:32+00:00         True      38.6            67       449.00 m   \n",
      "2018-01-31 21:13:34+00:00        False      26.3           649       612.00 m   \n",
      "2018-02-05 21:06:42+00:00         True      24.3            69       439.00 m   \n",
      "2018-02-07 06:59:05+00:00         True      47.1           144       890.00 m   \n",
      "\n",
      "                           kudos  moving_time workout_type  ... Rest AVNN  \\\n",
      "2018-01-27 19:39:49+00:00      4           17         Ride  ...         0   \n",
      "2018-01-27 20:01:32+00:00     19           67         Race  ...         0   \n",
      "2018-01-31 21:13:34+00:00      6          113         Ride  ...         0   \n",
      "2018-02-05 21:06:42+00:00      6           65         Ride  ...         0   \n",
      "2018-02-07 06:59:05+00:00     10          134         Ride  ...         0   \n",
      "\n",
      "                          Rest SDNN Rest rMSSD  Rest PNN50  Rest LF  Rest HF  \\\n",
      "2018-01-27 19:39:49+00:00         0          0           0        0        0   \n",
      "2018-01-27 20:01:32+00:00         0          0           0        0        0   \n",
      "2018-01-31 21:13:34+00:00         0          0           0        0        0   \n",
      "2018-02-05 21:06:42+00:00         0          0           0        0        0   \n",
      "2018-02-07 06:59:05+00:00         0          0           0        0        0   \n",
      "\n",
      "                           HRV Recovery Points       NP       IF       TSS  \n",
      "2018-01-27 19:39:49+00:00                    0  222.856  0.83155   20.2257  \n",
      "2018-01-27 20:01:32+00:00                    0  245.365  0.91554   94.5787  \n",
      "2018-01-31 21:13:34+00:00                    0    0.000  0.00000    0.0000  \n",
      "2018-02-05 21:06:42+00:00                    0  253.702  0.94665   98.3269  \n",
      "2018-02-07 06:59:05+00:00                    0  232.644  0.86808  171.0780  \n",
      "\n",
      "[5 rows x 372 columns]\n",
      "(243, 372)\n"
     ]
    }
   ],
   "source": [
    "complete_df = strava.join(cheetah, how= \"inner\")\n",
    "print(complete_df.head())\n",
    "print(complete_df.shape)"
   ]
  },
  {
   "cell_type": "code",
   "execution_count": 121,
   "metadata": {},
   "outputs": [
    {
     "name": "stdout",
     "output_type": "stream",
     "text": [
      "                           average_heartrate  average_temp  average_watts  \\\n",
      "2018-01-27 19:39:49+00:00              120.6          21.0          153.4   \n",
      "2018-01-27 20:01:32+00:00              146.9          22.0          187.7   \n",
      "2018-02-05 21:06:42+00:00              119.3          19.0          165.9   \n",
      "2018-02-07 06:59:05+00:00              124.8          20.0          151.0   \n",
      "2018-02-09 19:18:03+00:00              123.0          20.0          145.9   \n",
      "\n",
      "                          device_watts  distance  elapsed_time elevation_gain  \\\n",
      "2018-01-27 19:39:49+00:00         True       7.6            17        95.00 m   \n",
      "2018-01-27 20:01:32+00:00         True      38.6            67       449.00 m   \n",
      "2018-02-05 21:06:42+00:00         True      24.3            69       439.00 m   \n",
      "2018-02-07 06:59:05+00:00         True      47.1           144       890.00 m   \n",
      "2018-02-09 19:18:03+00:00         True      59.8           193       656.00 m   \n",
      "\n",
      "                           kudos  moving_time workout_type  ... Rest AVNN  \\\n",
      "2018-01-27 19:39:49+00:00      4           17         Ride  ...         0   \n",
      "2018-01-27 20:01:32+00:00     19           67         Race  ...         0   \n",
      "2018-02-05 21:06:42+00:00      6           65         Ride  ...         0   \n",
      "2018-02-07 06:59:05+00:00     10          134         Ride  ...         0   \n",
      "2018-02-09 19:18:03+00:00     22          139         Ride  ...         0   \n",
      "\n",
      "                          Rest SDNN Rest rMSSD  Rest PNN50  Rest LF  Rest HF  \\\n",
      "2018-01-27 19:39:49+00:00         0          0           0        0        0   \n",
      "2018-01-27 20:01:32+00:00         0          0           0        0        0   \n",
      "2018-02-05 21:06:42+00:00         0          0           0        0        0   \n",
      "2018-02-07 06:59:05+00:00         0          0           0        0        0   \n",
      "2018-02-09 19:18:03+00:00         0          0           0        0        0   \n",
      "\n",
      "                           HRV Recovery Points       NP       IF       TSS  \n",
      "2018-01-27 19:39:49+00:00                    0  222.856  0.83155   20.2257  \n",
      "2018-01-27 20:01:32+00:00                    0  245.365  0.91554   94.5787  \n",
      "2018-02-05 21:06:42+00:00                    0  253.702  0.94665   98.3269  \n",
      "2018-02-07 06:59:05+00:00                    0  232.644  0.86808  171.0780  \n",
      "2018-02-09 19:18:03+00:00                    0  212.726  0.79375  147.7970  \n",
      "\n",
      "[5 rows x 372 columns]\n",
      "(209, 372)\n"
     ]
    }
   ],
   "source": [
    "#Remove rides with no measured power\n",
    "complete_df.drop(complete_df[complete_df['device_watts']== False].index, inplace = True)\n",
    "print(complete_df.head())\n",
    "print(complete_df.shape)"
   ]
  },
  {
   "cell_type": "markdown",
   "metadata": {},
   "source": [
    "## Exploring the distrubutions of key variables"
   ]
  },
  {
   "cell_type": "code",
   "execution_count": 118,
   "metadata": {},
   "outputs": [],
   "source": [
    "def skewness(x) :\n",
    "    res = 0\n",
    "    m = x.mean()\n",
    "    s = x.std()\n",
    "    for i in x:\n",
    "        res += (i-m)*(i-m)*(i-m)\n",
    "    res /= (len(x)*s*s*s)\n",
    "    return res"
   ]
  },
  {
   "cell_type": "code",
   "execution_count": 142,
   "metadata": {},
   "outputs": [
    {
     "name": "stdout",
     "output_type": "stream",
     "text": [
      "Skewness of Distance:  0.5124316095249656\n"
     ]
    },
    {
     "data": {
      "image/png": "[encoded data removed]",
      "text/plain": [
       "<Figure size 432x288 with 1 Axes>"
      ]
     },
     "metadata": {
      "needs_background": "light"
     },
     "output_type": "display_data"
    }
   ],
   "source": [
    "complete_df['distance'].hist()\n",
    "plt.xlabel('Distance')\n",
    "plt.ylabel('Frequency')\n",
    "print (\"Skewness of Distance: \", skewness(complete_df.distance))"
   ]
  },
  {
   "cell_type": "markdown",
   "metadata": {},
   "source": [
    "The distribution of Distance variable skews right"
   ]
  },
  {
   "cell_type": "code",
   "execution_count": 143,
   "metadata": {},
   "outputs": [
    {
     "name": "stdout",
     "output_type": "stream",
     "text": [
      "Skewness of Moving Time:  0.63069381841196\n"
     ]
    },
    {
     "data": {
      "image/png": "[encoded data removed]",
      "text/plain": [
       "<Figure size 432x288 with 1 Axes>"
      ]
     },
     "metadata": {
      "needs_background": "light"
     },
     "output_type": "display_data"
    }
   ],
   "source": [
    "complete_df['moving_time'].hist()\n",
    "plt.xlabel('Moving Time')\n",
    "plt.ylabel('Frequency')\n",
    "print (\"Skewness of Moving Time: \", skewness(complete_df.elapsed_time))"
   ]
  },
  {
   "cell_type": "markdown",
   "metadata": {},
   "source": [
    "The distribution of Moving Time variable skews right"
   ]
  },
  {
   "cell_type": "code",
   "execution_count": 144,
   "metadata": {
    "tags": []
   },
   "outputs": [
    {
     "name": "stdout",
     "output_type": "stream",
     "text": [
      "Skewness of Average Speed:  -0.7555630310684619\n"
     ]
    },
    {
     "data": {
      "image/png": "[encoded data removed]",
      "text/plain": [
       "<Figure size 432x288 with 1 Axes>"
      ]
     },
     "metadata": {
      "needs_background": "light"
     },
     "output_type": "display_data"
    }
   ],
   "source": [
    "complete_df['average_speed'] = complete_df['distance']/complete_df['moving_time']\n",
    "complete_df.average_speed.hist()\n",
    "plt.xlabel('Average Speed')\n",
    "plt.ylabel('Frequency')\n",
    "print (\"Skewness of Average Speed: \", skewness(complete_df.average_speed))"
   ]
  },
  {
   "cell_type": "markdown",
   "metadata": {},
   "source": [
    "The distribution of Average Speed variable skews left"
   ]
  },
  {
   "cell_type": "code",
   "execution_count": 146,
   "metadata": {},
   "outputs": [
    {
     "name": "stdout",
     "output_type": "stream",
     "text": [
      "Skewness of average_heartrate:  nan\n"
     ]
    },
    {
     "data": {
      "image/png": "[encoded data removed]",
      "text/plain": [
       "<Figure size 432x288 with 1 Axes>"
      ]
     },
     "metadata": {
      "needs_background": "light"
     },
     "output_type": "display_data"
    }
   ],
   "source": [
    "complete_df['average_heartrate'].hist()\n",
    "plt.xlabel('Heart Rate')\n",
    "plt.ylabel('Frequency')\n",
    "print (\"Skewness of average_heartrate: \", skewness(complete_df['average_heartrate']))"
   ]
  },
  {
   "cell_type": "markdown",
   "metadata": {},
   "source": [
    "Heart Rate is normally distributed"
   ]
  },
  {
   "cell_type": "code",
   "execution_count": 147,
   "metadata": {},
   "outputs": [
    {
     "name": "stdout",
     "output_type": "stream",
     "text": [
      "Skewness of Average Power:  nan\n"
     ]
    },
    {
     "data": {
      "image/png": "[encoded data removed]",
      "text/plain": [
       "<Figure size 432x288 with 1 Axes>"
      ]
     },
     "metadata": {
      "needs_background": "light"
     },
     "output_type": "display_data"
    }
   ],
   "source": [
    "complete_df['average_watts'].hist()\n",
    "plt.xlabel('Average Power')\n",
    "plt.ylabel('Frequency')\n",
    "print (\"Skewness of Average Power: \", skewness(complete_df['average_watts']))"
   ]
  },
  {
   "cell_type": "markdown",
   "metadata": {},
   "source": [
    "Average Power is normally distributed"
   ]
  },
  {
   "cell_type": "code",
   "execution_count": 148,
   "metadata": {},
   "outputs": [
    {
     "name": "stdout",
     "output_type": "stream",
     "text": [
      "Skewness of Training Stress Score:  1.0406742960001307\n"
     ]
    },
    {
     "data": {
      "image/png": "[encoded data removed]",
      "text/plain": [
       "<Figure size 432x288 with 1 Axes>"
      ]
     },
     "metadata": {
      "needs_background": "light"
     },
     "output_type": "display_data"
    }
   ],
   "source": [
    "complete_df['TSS'].hist()\n",
    "plt.xlabel('TSS')\n",
    "plt.ylabel('Frequency')\n",
    "print (\"Skewness of Training Stress Score: \", skewness(complete_df['TSS']))"
   ]
  },
  {
   "cell_type": "markdown",
   "metadata": {},
   "source": [
    "The distribution of Moving Time variable skews right"
   ]
  },
  {
   "cell_type": "markdown",
   "metadata": {},
   "source": [
    "## Exploring the relationships between main variables"
   ]
  },
  {
   "cell_type": "code",
   "execution_count": 201,
   "metadata": {
    "tags": []
   },
   "outputs": [
    {
     "name": "stdout",
     "output_type": "stream",
     "text": [
      "2018-01-27 19:39:49+00:00     95.0\n",
      "2018-01-27 20:01:32+00:00    449.0\n",
      "2018-02-05 21:06:42+00:00    439.0\n",
      "2018-02-07 06:59:05+00:00    890.0\n",
      "2018-02-09 19:18:03+00:00    656.0\n",
      "                             ...  \n",
      "2019-07-19 20:22:49+00:00    666.0\n",
      "2019-07-26 20:12:56+00:00    663.0\n",
      "2019-07-27 20:42:59+00:00    247.0\n",
      "2019-07-27 21:47:24+00:00    415.0\n",
      "2019-07-27 23:55:13+00:00    280.0\n",
      "Name: elevation_gain_new, Length: 209, dtype: float64\n"
     ]
    }
   ],
   "source": [
    "#Cleaning \"elevation_gain\" data\n",
    "complete_df['elevation_gain_new'] = complete_df.elevation_gain.str.replace(' ','').str.replace('m','').astype(float)\n",
    "print (complete_df.elevation_gain_new)"
   ]
  },
  {
   "cell_type": "markdown",
   "metadata": {},
   "source": [
    "Create a temporary dataframe to explore the relationships between Distance, Moving Time, Average Speed, Heart Rate, Power (watts), Normalised power (NP), Training Stress Score, Elevation Gain"
   ]
  },
  {
   "cell_type": "code",
   "execution_count": 151,
   "metadata": {},
   "outputs": [
    {
     "name": "stdout",
     "output_type": "stream",
     "text": [
      "                           distance  moving_time  average_speed  \\\n",
      "2018-01-27 19:39:49+00:00       7.6           17       0.447059   \n",
      "2018-01-27 20:01:32+00:00      38.6           67       0.576119   \n",
      "2018-02-05 21:06:42+00:00      24.3           65       0.373846   \n",
      "2018-02-07 06:59:05+00:00      47.1          134       0.351493   \n",
      "2018-02-09 19:18:03+00:00      59.8          139       0.430216   \n",
      "\n",
      "                           average_heartrate  average_watts       NP  \\\n",
      "2018-01-27 19:39:49+00:00              120.6          153.4  222.856   \n",
      "2018-01-27 20:01:32+00:00              146.9          187.7  245.365   \n",
      "2018-02-05 21:06:42+00:00              119.3          165.9  253.702   \n",
      "2018-02-07 06:59:05+00:00              124.8          151.0  232.644   \n",
      "2018-02-09 19:18:03+00:00              123.0          145.9  212.726   \n",
      "\n",
      "                                TSS  elevation_gain_new  \n",
      "2018-01-27 19:39:49+00:00   20.2257                95.0  \n",
      "2018-01-27 20:01:32+00:00   94.5787               449.0  \n",
      "2018-02-05 21:06:42+00:00   98.3269               439.0  \n",
      "2018-02-07 06:59:05+00:00  171.0780               890.0  \n",
      "2018-02-09 19:18:03+00:00  147.7970               656.0  \n",
      "(209, 8)\n"
     ]
    }
   ],
   "source": [
    "temp_df = complete_df[['distance','moving_time','average_speed','average_heartrate','average_watts','NP','TSS','elevation_gain_new']]\n",
    "print(temp_df.head())\n",
    "print(temp_df.shape)"
   ]
  },
  {
   "cell_type": "markdown",
   "metadata": {},
   "source": [
    "Calculate correlations between each pair"
   ]
  },
  {
   "cell_type": "code",
   "execution_count": 152,
   "metadata": {},
   "outputs": [
    {
     "data": {
      "text/html": [
       "<div>\n",
       "<style scoped>\n",
       "    .dataframe tbody tr th:only-of-type {\n",
       "        vertical-align: middle;\n",
       "    }\n",
       "\n",
       "    .dataframe tbody tr th {\n",
       "        vertical-align: top;\n",
       "    }\n",
       "\n",
       "    .dataframe thead th {\n",
       "        text-align: right;\n",
       "    }\n",
       "</style>\n",
       "<table border=\"1\" class=\"dataframe\">\n",
       "  <thead>\n",
       "    <tr style=\"text-align: right;\">\n",
       "      <th></th>\n",
       "      <th>distance</th>\n",
       "      <th>moving_time</th>\n",
       "      <th>average_speed</th>\n",
       "      <th>average_heartrate</th>\n",
       "      <th>average_watts</th>\n",
       "      <th>NP</th>\n",
       "      <th>TSS</th>\n",
       "      <th>elevation_gain_new</th>\n",
       "    </tr>\n",
       "  </thead>\n",
       "  <tbody>\n",
       "    <tr>\n",
       "      <th>distance</th>\n",
       "      <td>1.000000</td>\n",
       "      <td>0.939383</td>\n",
       "      <td>0.172945</td>\n",
       "      <td>0.114595</td>\n",
       "      <td>0.031858</td>\n",
       "      <td>0.270703</td>\n",
       "      <td>0.922565</td>\n",
       "      <td>0.839528</td>\n",
       "    </tr>\n",
       "    <tr>\n",
       "      <th>moving_time</th>\n",
       "      <td>0.939383</td>\n",
       "      <td>1.000000</td>\n",
       "      <td>-0.117317</td>\n",
       "      <td>-0.048611</td>\n",
       "      <td>-0.112507</td>\n",
       "      <td>0.044431</td>\n",
       "      <td>0.871368</td>\n",
       "      <td>0.838843</td>\n",
       "    </tr>\n",
       "    <tr>\n",
       "      <th>average_speed</th>\n",
       "      <td>0.172945</td>\n",
       "      <td>-0.117317</td>\n",
       "      <td>1.000000</td>\n",
       "      <td>0.725904</td>\n",
       "      <td>0.698640</td>\n",
       "      <td>0.670522</td>\n",
       "      <td>0.121628</td>\n",
       "      <td>0.008474</td>\n",
       "    </tr>\n",
       "    <tr>\n",
       "      <th>average_heartrate</th>\n",
       "      <td>0.114595</td>\n",
       "      <td>-0.048611</td>\n",
       "      <td>0.725904</td>\n",
       "      <td>1.000000</td>\n",
       "      <td>0.672457</td>\n",
       "      <td>0.593091</td>\n",
       "      <td>0.113775</td>\n",
       "      <td>0.076712</td>\n",
       "    </tr>\n",
       "    <tr>\n",
       "      <th>average_watts</th>\n",
       "      <td>0.031858</td>\n",
       "      <td>-0.112507</td>\n",
       "      <td>0.698640</td>\n",
       "      <td>0.672457</td>\n",
       "      <td>1.000000</td>\n",
       "      <td>0.772574</td>\n",
       "      <td>0.150163</td>\n",
       "      <td>-0.096097</td>\n",
       "    </tr>\n",
       "    <tr>\n",
       "      <th>NP</th>\n",
       "      <td>0.270703</td>\n",
       "      <td>0.044431</td>\n",
       "      <td>0.670522</td>\n",
       "      <td>0.593091</td>\n",
       "      <td>0.772574</td>\n",
       "      <td>1.000000</td>\n",
       "      <td>0.432286</td>\n",
       "      <td>0.240385</td>\n",
       "    </tr>\n",
       "    <tr>\n",
       "      <th>TSS</th>\n",
       "      <td>0.922565</td>\n",
       "      <td>0.871368</td>\n",
       "      <td>0.121628</td>\n",
       "      <td>0.113775</td>\n",
       "      <td>0.150163</td>\n",
       "      <td>0.432286</td>\n",
       "      <td>1.000000</td>\n",
       "      <td>0.847231</td>\n",
       "    </tr>\n",
       "    <tr>\n",
       "      <th>elevation_gain_new</th>\n",
       "      <td>0.839528</td>\n",
       "      <td>0.838843</td>\n",
       "      <td>0.008474</td>\n",
       "      <td>0.076712</td>\n",
       "      <td>-0.096097</td>\n",
       "      <td>0.240385</td>\n",
       "      <td>0.847231</td>\n",
       "      <td>1.000000</td>\n",
       "    </tr>\n",
       "  </tbody>\n",
       "</table>\n",
       "</div>"
      ],
      "text/plain": [
       "                    distance  moving_time  average_speed  average_heartrate  \\\n",
       "distance            1.000000     0.939383       0.172945           0.114595   \n",
       "moving_time         0.939383     1.000000      -0.117317          -0.048611   \n",
       "average_speed       0.172945    -0.117317       1.000000           0.725904   \n",
       "average_heartrate   0.114595    -0.048611       0.725904           1.000000   \n",
       "average_watts       0.031858    -0.112507       0.698640           0.672457   \n",
       "NP                  0.270703     0.044431       0.670522           0.593091   \n",
       "TSS                 0.922565     0.871368       0.121628           0.113775   \n",
       "elevation_gain_new  0.839528     0.838843       0.008474           0.076712   \n",
       "\n",
       "                    average_watts        NP       TSS  elevation_gain_new  \n",
       "distance                 0.031858  0.270703  0.922565            0.839528  \n",
       "moving_time             -0.112507  0.044431  0.871368            0.838843  \n",
       "average_speed            0.698640  0.670522  0.121628            0.008474  \n",
       "average_heartrate        0.672457  0.593091  0.113775            0.076712  \n",
       "average_watts            1.000000  0.772574  0.150163           -0.096097  \n",
       "NP                       0.772574  1.000000  0.432286            0.240385  \n",
       "TSS                      0.150163  0.432286  1.000000            0.847231  \n",
       "elevation_gain_new      -0.096097  0.240385  0.847231            1.000000  "
      ]
     },
     "execution_count": 152,
     "metadata": {},
     "output_type": "execute_result"
    }
   ],
   "source": [
    "temp_df.corr()"
   ]
  },
  {
   "cell_type": "markdown",
   "metadata": {},
   "source": [
    "Now, we visualize correlation between those variables via a correlation matrix heatmap"
   ]
  },
  {
   "cell_type": "code",
   "execution_count": 153,
   "metadata": {},
   "outputs": [
    {
     "data": {
      "text/plain": [
       "[Text(0.5, 0, 'distance'),\n",
       " Text(1.5, 0, 'moving_time'),\n",
       " Text(2.5, 0, 'average_speed'),\n",
       " Text(3.5, 0, 'average_heartrate'),\n",
       " Text(4.5, 0, 'average_watts'),\n",
       " Text(5.5, 0, 'NP'),\n",
       " Text(6.5, 0, 'TSS'),\n",
       " Text(7.5, 0, 'elevation_gain_new')]"
      ]
     },
     "execution_count": 153,
     "metadata": {},
     "output_type": "execute_result"
    },
    {
     "data": {
      "image/png": "[encoded data removed]",
      "text/plain": [
       "<Figure size 432x288 with 2 Axes>"
      ]
     },
     "metadata": {
      "needs_background": "light"
     },
     "output_type": "display_data"
    }
   ],
   "source": [
    "import seaborn as sns\n",
    "corr = temp_df.corr()\n",
    "ax = sns.heatmap(corr, vmin=-1, vmax=1, center=0, square=True)\n",
    "ax.set_xticklabels(ax.get_xticklabels(),\n",
    "                  rotation=45,\n",
    "                  horizontalalignment='right')"
   ]
  },
  {
   "cell_type": "markdown",
   "metadata": {},
   "source": [
    "There are some clear relations obtained. For examples:\n",
    "- We can clearly see Distance is positively correlated with Moving Time (corr = 0.939383), Training Stress Score (corr = 0.922565), and Elevation Gain (corr = 0.839528). This is because the longer the distance is, the harder the ride is, then, the larger your training stress score is. On the other hand, the larger elevation gain you can achieve, the longer distance that you can make.\n",
    "\n",
    "- Similar to Distance, Moving Time has a strong positive correlation with Training Stress Score , and Elevation Gain. This is obviously because the longer the ride is, the more stressed you feel. On the other hand, Moving Time is negatively correlated with Average Speed, which can be intepreted that when you exercisefor longer and longer, your speed will be slower and slower.\n",
    "\n",
    "- Heart Rate is positively correlated with Average Power, and Normalised Power. This is because if you put more effort to the ride, your heart rate will rise "
   ]
  },
  {
   "cell_type": "markdown",
   "metadata": {},
   "source": [
    "## Exploring the differences between 3 categories: Ride, Workout, and Race"
   ]
  },
  {
   "cell_type": "code",
   "execution_count": 155,
   "metadata": {
    "tags": []
   },
   "outputs": [
    {
     "name": "stdout",
     "output_type": "stream",
     "text": [
      "Race df shape:  (29, 374)\n",
      "Ride df shape:  (155, 374)\n",
      "Workout df shape:  (25, 374)\n"
     ]
    }
   ],
   "source": [
    "RaceDf = complete_df[complete_df.workout_type == \"Race\"]\n",
    "RideDf = complete_df[complete_df.workout_type == \"Ride\"]\n",
    "WorkoutDf = complete_df[complete_df.workout_type == \"Workout\"]\n",
    "\n",
    "print(\"Race df shape: \", RaceDf.shape)\n",
    "print(\"Ride df shape: \", RideDf.shape)\n",
    "print(\"Workout df shape: \", WorkoutDf.shape)"
   ]
  },
  {
   "cell_type": "code",
   "execution_count": 188,
   "metadata": {},
   "outputs": [
    {
     "data": {
      "text/html": [
       "\n",
       "\n",
       "\n",
       "\n",
       "\n",
       "\n",
       "  <div class=\"bk-root\" id=\"ddd3b70d-93e0-4ca6-b9cf-f729fab56e91\" data-root-id=\"5454\"></div>\n"
      ]
     },
     "metadata": {},
     "output_type": "display_data"
    },
    {
     "data": {
      "application/javascript": [
       "(function(root) {\n",
       "  function embed_document(root) {\n",
       "    \n",
       "  var docs_json = {\"7c4b539b-218c-46cc-9202-389c0d3cc342\":{\"roots\":{\"references\":[{\"attributes\":{\"below\":[{\"id\":\"5465\"}],\"center\":[{\"id\":\"5468\"},{\"id\":\"5472\"},{\"id\":\"5500\"}],\"left\":[{\"id\":\"5469\"}],\"renderers\":[{\"id\":\"5490\"},{\"id\":\"5505\"},{\"id\":\"5521\"}],\"title\":{\"id\":\"5455\"},\"toolbar\":{\"id\":\"5480\"},\"x_range\":{\"id\":\"5457\"},\"x_scale\":{\"id\":\"5461\"},\"y_range\":{\"id\":\"5459\"},\"y_scale\":{\"id\":\"5463\"}},\"id\":\"5454\",\"subtype\":\"Figure\",\"type\":\"Plot\"},{\"attributes\":{\"label\":{\"value\":\"Race\"},\"renderers\":[{\"id\":\"5490\"}]},\"id\":\"5501\",\"type\":\"LegendItem\"},{\"attributes\":{},\"id\":\"5495\",\"type\":\"BasicTickFormatter\"},{\"attributes\":{},\"id\":\"5532\",\"type\":\"UnionRenderers\"},{\"attributes\":{},\"id\":\"5493\",\"type\":\"BasicTickFormatter\"},{\"attributes\":{\"axis\":{\"id\":\"5465\"},\"ticker\":null},\"id\":\"5468\",\"type\":\"Grid\"},{\"attributes\":{},\"id\":\"5478\",\"type\":\"HelpTool\"},{\"attributes\":{},\"id\":\"5514\",\"type\":\"UnionRenderers\"},{\"attributes\":{\"items\":[{\"id\":\"5501\"},{\"id\":\"5517\"},{\"id\":\"5535\"}],\"location\":\"top_left\"},\"id\":\"5500\",\"type\":\"Legend\"},{\"attributes\":{},\"id\":\"5461\",\"type\":\"LinearScale\"},{\"attributes\":{\"data_source\":{\"id\":\"5502\"},\"glyph\":{\"id\":\"5503\"},\"hover_glyph\":null,\"muted_glyph\":null,\"nonselection_glyph\":{\"id\":\"5504\"},\"selection_glyph\":null,\"view\":{\"id\":\"5506\"}},\"id\":\"5505\",\"type\":\"GlyphRenderer\"},{\"attributes\":{\"label\":{\"value\":\"Ride\"},\"renderers\":[{\"id\":\"5505\"}]},\"id\":\"5517\",\"type\":\"LegendItem\"},{\"attributes\":{},\"id\":\"5474\",\"type\":\"WheelZoomTool\"},{\"attributes\":{},\"id\":\"5459\",\"type\":\"DataRange1d\"},{\"attributes\":{\"data_source\":{\"id\":\"5487\"},\"glyph\":{\"id\":\"5488\"},\"hover_glyph\":null,\"muted_glyph\":null,\"nonselection_glyph\":{\"id\":\"5489\"},\"selection_glyph\":null,\"view\":{\"id\":\"5491\"}},\"id\":\"5490\",\"type\":\"GlyphRenderer\"},{\"attributes\":{\"overlay\":{\"id\":\"5479\"}},\"id\":\"5475\",\"type\":\"BoxZoomTool\"},{\"attributes\":{},\"id\":\"5515\",\"type\":\"Selection\"},{\"attributes\":{\"source\":{\"id\":\"5487\"}},\"id\":\"5491\",\"type\":\"CDSView\"},{\"attributes\":{},\"id\":\"5498\",\"type\":\"Selection\"},{\"attributes\":{\"fill_alpha\":{\"value\":0.1},\"fill_color\":{\"value\":\"black\"},\"line_alpha\":{\"value\":0.1},\"size\":{\"units\":\"screen\",\"value\":9},\"x\":{\"field\":\"x\"},\"y\":{\"field\":\"y\"}},\"id\":\"5520\",\"type\":\"Circle\"},{\"attributes\":{},\"id\":\"5473\",\"type\":\"PanTool\"},{\"attributes\":{},\"id\":\"5533\",\"type\":\"Selection\"},{\"attributes\":{},\"id\":\"5470\",\"type\":\"BasicTicker\"},{\"attributes\":{},\"id\":\"5463\",\"type\":\"LinearScale\"},{\"attributes\":{},\"id\":\"5477\",\"type\":\"ResetTool\"},{\"attributes\":{\"fill_alpha\":{\"value\":0.5},\"fill_color\":{\"value\":\"blue\"},\"line_alpha\":{\"value\":0.5},\"line_color\":{\"value\":\"blue\"},\"size\":{\"units\":\"screen\",\"value\":9},\"x\":{\"field\":\"x\"},\"y\":{\"field\":\"y\"}},\"id\":\"5503\",\"type\":\"Circle\"},{\"attributes\":{\"axis\":{\"id\":\"5469\"},\"dimension\":1,\"ticker\":null},\"id\":\"5472\",\"type\":\"Grid\"},{\"attributes\":{\"data_source\":{\"id\":\"5518\"},\"glyph\":{\"id\":\"5519\"},\"hover_glyph\":null,\"muted_glyph\":null,\"nonselection_glyph\":{\"id\":\"5520\"},\"selection_glyph\":null,\"view\":{\"id\":\"5522\"}},\"id\":\"5521\",\"type\":\"GlyphRenderer\"},{\"attributes\":{\"text\":\"The distribution of Distance, and TSS between Ride, Workout, and Race\"},\"id\":\"5455\",\"type\":\"Title\"},{\"attributes\":{\"source\":{\"id\":\"5502\"}},\"id\":\"5506\",\"type\":\"CDSView\"},{\"attributes\":{},\"id\":\"5476\",\"type\":\"SaveTool\"},{\"attributes\":{\"data\":{\"x\":{\"__ndarray__\":\"ZmZmZmZmHkDNzMzMzEw4QM3MzMzMjEdAZmZmZmbmTUAzMzMzMzMfQGZmZmZm5kdAzczMzMzMIUDNzMzMzExNQJqZmZmZGTRAzczMzMxMR0DNzMzMzMwhQAAAAAAAgElAAAAAAAAAJ0DNzMzMzAxOQJqZmZmZmTRAmpmZmZlZQEAAAAAAAIBNQDMzMzMzs05AAAAAAABAS0AAAAAAAAAkQM3MzMzMzE5AMzMzMzNzVEAAAAAAAIBHQAAAAAAAACJAzczMzMzMTUDNzMzMzMwzQM3MzMzMzDdAAAAAAADAQ0AzMzMzM/NAQM3MzMzMDFtAZmZmZmZmIkDNzMzMzMwgQM3MzMzMzE1AMzMzMzNzTUDNzMzMzAxNQJqZmZmZ2U1AmpmZmZmZE0AAAAAAAEBJQGZmZmZm5kxAmpmZmZlZTUDNzMzMzAxQQJqZmZmZmU1AMzMzMzPzRUDNzMzMzMxOQM3MzMzMzEtAMzMzMzOzRUAAAAAAAAAnQJqZmZmZmSVAzczMzMxMO0AzMzMzM7M/QGZmZmZmZjlAmpmZmZnZTUAAAAAAAIA7QDMzMzMz80FAZmZmZmZmS0AzMzMzM/NTQGZmZmZmZjhAZmZmZmZmIkBmZmZmZiZAQAAAAAAAgE1AMzMzMzOzM0AAAAAAAAA4QJqZmZmZmSdAZmZmZmZmIkDNzMzMzExHQJqZmZmZmU1AZmZmZmbGU0CamZmZmdlPQJqZmZmZ2U5AzczMzMzMLUDNzMzMzMxNQM3MzMzMzCdAZmZmZmZmGkAzMzMzM7NPQAAAAAAAYFBAAAAAAAAAOkDNzMzMzExRQGZmZmZmZk5AmpmZmZkZSkBmZmZmZiZSQM3MzMzMjEBAAAAAAAAAUUBmZmZmZmYgQGZmZmZmZiNAAAAAAADATUDNzMzMzMwhQJqZmZmZ2UxAmpmZmZmZIkCamZmZmZklQJqZmZmZmQVAAAAAAAAACEBmZmZmZuZNQJqZmZmZ2U1AMzMzMzMzNEAzMzMzM/NAQGZmZmZmpk1AzczMzMzMEkAAAAAAAAA5QAAAAAAAADpAmpmZmZnZTUAzMzMzMzNTQGZmZmZmZjVAMzMzMzMzE0AzMzMzM3NaQAAAAAAAgDZAzczMzMzMM0BmZmZmZuY3QDMzMzMzs01AZmZmZmZmIkCamZmZmZkmQAAAAAAAAD1AmpmZmZkZTkDNzMzMzMwzQDMzMzMzc0BAMzMzMzMzFUBmZmZmZqZOQM3MzMzMzE1AzczMzMxMNEAAAAAAAABBQM3MzMzMzChAMzMzMzNzSECamZmZmZkNQGZmZmZmZk9AMzMzMzOzRUDNzMzMzMxNQM3MzMzMzDNAzczMzMzMN0DNzMzMzExAQAAAAAAAIFFAMzMzMzOzPkAzMzMzM7NAQM3MzMzMzE1AzczMzMzMJEAzMzMzMzMnQAAAAAAAQExAAAAAAAAAKEAzMzMzMzNNQAAAAAAAABJAzczMzMwMTUBmZmZmZmYkQJqZmZmZmS9AmpmZmZlZTUDNzMzMzMwmQM3MzMzMzCtAMzMzMzMzIkBmZmZmZmY8QGZmZmZm5jxAMzMzMzOzTUAzMzMzMzMfQM3MzMzMjExAmpmZmZmZEUCamZmZmRlNQM3MzMzMzE1AzczMzMzMM0AzMzMzMzM0QA==\",\"dtype\":\"float64\",\"order\":\"little\",\"shape\":[155]},\"y\":{\"__ndarray__\":\"C7Wmecc5NED+Q/rt65RYQNEi2/l+YmVAL90kBoF5YkD4U+Olm4QvQLpJDAIrf2NAMnctIR+0PkBOYhBYOVBjQA+cM6K0l0hAEoPAyqGxZUACK4cW2R41QOxRuB6F92NAqMZLN4m5QUDkpZvEIKxoQOxRuB6Fu1BAwhcmUwUjVED6fmq8dP9gQCcxCKwcSmNAXrpJDAI/cEC0yHa+n/o0QF66SQwCR2NAyqFFtvOdaUDZzvdT4xlkQDvfT42XDj9A16NwPQpzZUAp7Q2+MIVTQJ2AJsKGV01Aarx0kxg8ZUAoDwu1polYQG3n+6nxDm9AnDOitDfYPEDnjCjtDT5AQCUGgZVDr2JANV66SQymYUDLoUW283ljQO+nxks3UWVAZDvfT403KkBzaJHtfG9rQBKDwMqhBVxAGARWDi2yYEBGtvP91PhgQKwcWmQ7A2BAH4XrUbhqaUCPwvUoXHtxQDq0yHa+L2ZA4XoUrkfhWkAW+8vuyaMrQL6fGi/dVDdA4JwRpb3ZRkDysFBrmo9UQGB2Tx4WzlJAoBov3SRuZEAnoImw4YFOQB6n6Egu+1BAhxbZzvc3ZEDUeOkmMbhsQNxoAG+BNDtAK4cW2c43QEAEVg4tsnFVQNNNYhBY/WFA2T15WKjNQkBVwaikThBGQDlFR3L5vz9AvJaQD3qWQEC28/3UeGVnQBODwMqhUWRA+FPjpZvoaUCd76fGS59mQOOlm8QglGNAImx4eqU0QUDRItv5fiZmQFOWIY518TtAG55eKcuwL0CS7Xw/NYJkQEW28/3UUGlAVOOlm8QgWkDKoUW284FrQEjhehSuO2ZAKVyPwvX8YEB0kxgEVopmQFafq63Yg1VA9ihcj8JlZEAPnDOitH9BQPFjzF1LGD9Axks3iUHoZUADCYofY745QIxs5/up8WdA1JrmHaeYP0BtVn2utkI6QAAAAAAAAAAAAAAAAAAAAADNzMzMzBxgQHNoke18D2RAklz+Q/o9SUB6xyk6kgNMQOF6FK5H+WRANl66SQxCK0AUP8bctWxEQIgW2c7340dAF9nO91P3ZEBBYOXQIsF5QFfsL7snb0FAVcGopE5AJkDTTWIQWBd4QKrx0k1i6FpAgZVDi2wXSEAvbqMBvP1OQIPAyqFF9mZAAAAAAAAAAAD+Q/rt64A/QNGRXP5DDlJAyqFFtvNVaEA7AU2EDf9GQHL5D+m3z0hAxSCwcmhxN0BWDi2ynWdmQKFFtvP9WGZA0SLb+X7ySkAzMzMzM7tOQAAAAAAAAAAARIts5/sVY0ChZ7Pqc/UcQLx0kxgEimlAvHSTGAQuXUCgGi/dJAZoQFwgQfFjBElAsXJoke1MR0APnDOitBdTQKAaL90kMmhAn82qz9WWVEBqTfOOU4BYQJLtfD81vmZAidLe4AsTLkBy+Q/pt18+QOXQItv5EmZALv8h/fY9QkBOYhBYOZxkQLdif9k9GShAXrpJDAJ3ZEBTBaOSOlE+QLMMcayLI0FAUrgeheutZkD0/dR46dY3QLu4jQbwvkhAj+TyH9JfP0DVeOkmMaBTQI/k8h/SH0dAd76fGi85ZkCgibDh6aU0QIlBYOXQwmhAbqMBvAXSJkBWDi2ynetjQM/3U+Ol42ZA93XgnBGVSUA3iUFg5VhCQA==\",\"dtype\":\"float64\",\"order\":\"little\",\"shape\":[155]}},\"selected\":{\"id\":\"5515\"},\"selection_policy\":{\"id\":\"5514\"}},\"id\":\"5502\",\"type\":\"ColumnDataSource\"},{\"attributes\":{},\"id\":\"5497\",\"type\":\"UnionRenderers\"},{\"attributes\":{\"data\":{\"x\":{\"__ndarray__\":\"zczMzMxMQ0AAAAAAAAA/QAAAAAAAAC9AmpmZmZkZPkAAAAAAAAAkQAAAAAAAwENAAAAAAABARUAzMzMzMzM4QGZmZmZmJkBAZmZmZmZmP0CamZmZmRlAQM3MzMzMTENAzczMzMxMQkAAAAAAAIBCQM3MzMzMDEBAZmZmZmZmQ0AzMzMzM7M/QM3MzMzMzD9AZmZmZmZmHEAzMzMzM/NAQM3MzMzMDEBAAAAAAAAAJEDNzMzMzEw4QDMzMzMzM0NAzczMzMzMSUBmZmZmZiZCQM3MzMzMzDtAzczMzMzMN0CamZmZmRk9QA==\",\"dtype\":\"float64\",\"order\":\"little\",\"shape\":[29]},\"y\":{\"__ndarray__\":\"foy5awmlV0AmUwWjklJRQPwYc9cS0kdAS+oENBH+UEBKe4MvTMZEQOCcEaW9hVdAQDVeukmkWUBn1edqKz5PQCBB8WPM9VJAArwFEhTvTkBfmEwVjEJSQL7BFyZTZVZASOF6FK73W0C5jQbwFmxVQD0K16NwBVtApSxDHOtuVEAawFsgQQVYQF+6SQwC21lAQ61p3nGKNEB3vp8aL4FWQOwvuycPZ1hAP8bctYTsNkBL6gQ0EepSQJMYBFYOdVpAqMZLN4k1YkBWDi2yna9bQAisHFpkK1tAFK5H4XpoUECIFtnO9+NUQA==\",\"dtype\":\"float64\",\"order\":\"little\",\"shape\":[29]}},\"selected\":{\"id\":\"5498\"},\"selection_policy\":{\"id\":\"5497\"}},\"id\":\"5487\",\"type\":\"ColumnDataSource\"},{\"attributes\":{\"data\":{\"x\":{\"__ndarray__\":\"AAAAAAAAAADNzMzMzEw8QGZmZmZm5jxAZmZmZmbmQUAAAAAAAAA2QJqZmZmZmTxAZmZmZmZmOkAzMzMzM7M/QAAAAAAAACxAMzMzMzMzNEAAAAAAAIA5QM3MzMzMzCZAMzMzMzOzOUAzMzMzMzM3QDMzMzMzMzlAZmZmZmZmO0CamZmZmZk4QM3MzMzMTDhAmpmZmZmZNkAAAAAAAIA0QGZmZmZm5kNAZmZmZmYmQkAAAAAAAEBCQJqZmZmZ2UFAzczMzMxMQEA=\",\"dtype\":\"float64\",\"order\":\"little\",\"shape\":[25]},\"y\":{\"__ndarray__\":\"jLlrCfmoQEAv3SQGgSFTQDcawFsgHVFA9dvXgXMyVEBsCfmgZ4tDQDY8vVKW8VFAVp+rrdhvVkBKDAIrh25ZQHgLJCh+XD9AYTJVMCphS0D5D+m3ryNEQIZa07zjfEJAnDOitDcoUkAOLbKd729SQDPEsS5um1hA7lpCPuhpVUBj7lpCPixTQBb7y+7J61JA5j+k375mS0AHzhlR2otHQPYoXI/CzVlA2ht8YTK1U0DwhclUwXRUQAskKH6M1VdA2V92Tx7uVUA=\",\"dtype\":\"float64\",\"order\":\"little\",\"shape\":[25]}},\"selected\":{\"id\":\"5533\"},\"selection_policy\":{\"id\":\"5532\"}},\"id\":\"5518\",\"type\":\"ColumnDataSource\"},{\"attributes\":{\"source\":{\"id\":\"5518\"}},\"id\":\"5522\",\"type\":\"CDSView\"},{\"attributes\":{\"fill_alpha\":{\"value\":0.5},\"fill_color\":{\"value\":\"black\"},\"line_alpha\":{\"value\":0.5},\"size\":{\"units\":\"screen\",\"value\":9},\"x\":{\"field\":\"x\"},\"y\":{\"field\":\"y\"}},\"id\":\"5519\",\"type\":\"Circle\"},{\"attributes\":{},\"id\":\"5457\",\"type\":\"DataRange1d\"},{\"attributes\":{\"fill_alpha\":{\"value\":0.5},\"fill_color\":{\"value\":\"red\"},\"line_alpha\":{\"value\":0.5},\"line_color\":{\"value\":\"red\"},\"size\":{\"units\":\"screen\",\"value\":9},\"x\":{\"field\":\"x\"},\"y\":{\"field\":\"y\"}},\"id\":\"5488\",\"type\":\"Circle\"},{\"attributes\":{\"fill_alpha\":{\"value\":0.1},\"fill_color\":{\"value\":\"blue\"},\"line_alpha\":{\"value\":0.1},\"line_color\":{\"value\":\"blue\"},\"size\":{\"units\":\"screen\",\"value\":9},\"x\":{\"field\":\"x\"},\"y\":{\"field\":\"y\"}},\"id\":\"5504\",\"type\":\"Circle\"},{\"attributes\":{\"label\":{\"value\":\"Workout\"},\"renderers\":[{\"id\":\"5521\"}]},\"id\":\"5535\",\"type\":\"LegendItem\"},{\"attributes\":{\"fill_alpha\":{\"value\":0.1},\"fill_color\":{\"value\":\"red\"},\"line_alpha\":{\"value\":0.1},\"line_color\":{\"value\":\"red\"},\"size\":{\"units\":\"screen\",\"value\":9},\"x\":{\"field\":\"x\"},\"y\":{\"field\":\"y\"}},\"id\":\"5489\",\"type\":\"Circle\"},{\"attributes\":{\"bottom_units\":\"screen\",\"fill_alpha\":0.5,\"fill_color\":\"lightgrey\",\"left_units\":\"screen\",\"level\":\"overlay\",\"line_alpha\":1.0,\"line_color\":\"black\",\"line_dash\":[4,4],\"line_width\":2,\"right_units\":\"screen\",\"top_units\":\"screen\"},\"id\":\"5479\",\"type\":\"BoxAnnotation\"},{\"attributes\":{\"active_drag\":\"auto\",\"active_inspect\":\"auto\",\"active_multi\":null,\"active_scroll\":\"auto\",\"active_tap\":\"auto\",\"tools\":[{\"id\":\"5473\"},{\"id\":\"5474\"},{\"id\":\"5475\"},{\"id\":\"5476\"},{\"id\":\"5477\"},{\"id\":\"5478\"}]},\"id\":\"5480\",\"type\":\"Toolbar\"},{\"attributes\":{\"axis_label\":\"Distance\",\"formatter\":{\"id\":\"5493\"},\"ticker\":{\"id\":\"5466\"}},\"id\":\"5465\",\"type\":\"LinearAxis\"},{\"attributes\":{},\"id\":\"5466\",\"type\":\"BasicTicker\"},{\"attributes\":{\"axis_label\":\"TSS\",\"formatter\":{\"id\":\"5495\"},\"ticker\":{\"id\":\"5470\"}},\"id\":\"5469\",\"type\":\"LinearAxis\"}],\"root_ids\":[\"5454\"]},\"title\":\"Bokeh Application\",\"version\":\"2.1.1\"}};\n",
       "  var render_items = [{\"docid\":\"7c4b539b-218c-46cc-9202-389c0d3cc342\",\"root_ids\":[\"5454\"],\"roots\":{\"5454\":\"ddd3b70d-93e0-4ca6-b9cf-f729fab56e91\"}}];\n",
       "  root.Bokeh.embed.embed_items_notebook(docs_json, render_items);\n",
       "\n",
       "  }\n",
       "  if (root.Bokeh !== undefined) {\n",
       "    embed_document(root);\n",
       "  } else {\n",
       "    var attempts = 0;\n",
       "    var timer = setInterval(function(root) {\n",
       "      if (root.Bokeh !== undefined) {\n",
       "        clearInterval(timer);\n",
       "        embed_document(root);\n",
       "      } else {\n",
       "        attempts++;\n",
       "        if (attempts > 100) {\n",
       "          clearInterval(timer);\n",
       "          console.log(\"Bokeh: ERROR: Unable to run BokehJS code because BokehJS library is missing\");\n",
       "        }\n",
       "      }\n",
       "    }, 10, root)\n",
       "  }\n",
       "})(window);"
      ],
      "application/vnd.bokehjs_exec.v0+json": ""
     },
     "metadata": {
      "application/vnd.bokehjs_exec.v0+json": {
       "id": "5454"
      }
     },
     "output_type": "display_data"
    }
   ],
   "source": [
    "from bokeh.io import output_notebook, show\n",
    "from bokeh.plotting import figure\n",
    "\n",
    "#Creating arrays for two different categories of points\n",
    "x_red = RaceDf.distance\n",
    "y_red = RaceDf.TSS\n",
    "\n",
    "x_blue = RideDf.distance\n",
    "y_blue =  RideDf.TSS\n",
    "\n",
    "x_black = WorkoutDf.distance\n",
    "y_black =  WorkoutDf.TSS\n",
    "\n",
    "#Creating the categorical scatter plot \n",
    "plot = figure(title = 'The distribution of Distance, and TSS between Ride, Workout, and Race')\n",
    "plot.circle(x_red, y_red, size = 9, color = 'red', alpha = 0.5, legend = 'Race' )\n",
    "plot.circle(x_blue, y_blue, size = 9, color = 'blue', alpha = 0.5, legend = 'Ride')\n",
    "plot.circle(x_black, y_black, size = 9, color = 'black', alpha = 0.5, legend = 'Workout')\n",
    "\n",
    "plot.xaxis.axis_label=\"Distance\"\n",
    "plot.yaxis.axis_label= \"TSS\"\n",
    "\n",
    "plot.legend.location = \"top_left\"\n",
    "show(plot)\n"
   ]
  },
  {
   "cell_type": "markdown",
   "metadata": {},
   "source": [
    "Comparing to Races and Workouts, Rides have longer distance and higher training stress score"
   ]
  },
  {
   "cell_type": "code",
   "execution_count": 187,
   "metadata": {},
   "outputs": [
    {
     "data": {
      "text/plain": [
       "<matplotlib.axes._subplots.AxesSubplot at 0x7f841a6f8850>"
      ]
     },
     "execution_count": 187,
     "metadata": {},
     "output_type": "execute_result"
    },
    {
     "data": {
      "image/png": "[encoded data removed]",
      "text/plain": [
       "<Figure size 432x288 with 1 Axes>"
      ]
     },
     "metadata": {
      "needs_background": "light"
     },
     "output_type": "display_data"
    }
   ],
   "source": [
    "import seaborn as sns\n",
    "sns.distplot( RaceDf['average_heartrate'] , color=\"skyblue\", label=\"Race\")\n",
    "sns.distplot( RideDf['average_heartrate'] , color=\"red\", label=\"Ride\")\n",
    "sns.distplot( WorkoutDf['average_heartrate'] , color=\"green\", label=\"Workout\")"
   ]
  },
  {
   "cell_type": "markdown",
   "metadata": {},
   "source": [
    "We can see the different distribution of Heart Rate between Ride, Workout, and Race. Race is a workout type causing higher Heart Rate among riders comparing to Workout and Ride. Ride is a workout type least causing Heart Rate because of less presure and longer elapsed/ moving time comparing the other two."
   ]
  },
  {
   "cell_type": "markdown",
   "metadata": {},
   "source": [
    " ## Exploring the relationship between rides and weather\n",
    " We want to explore relationship between rides and weather. In order to carry out this analysis, we will get weather data from Bureau of Meterology."
   ]
  },
  {
   "cell_type": "code",
   "execution_count": 191,
   "metadata": {
    "tags": []
   },
   "outputs": [
    {
     "name": "stdout",
     "output_type": "stream",
     "text": [
      "(365, 8)\n",
      "(365, 8)\n"
     ]
    }
   ],
   "source": [
    "weather2018 = pd.read_csv('data/weather_data_2018.csv')\n",
    "weather2019 = pd.read_csv('data/weather_data_2019.csv')\n",
    "print (weather2018.shape)\n",
    "print (weather2019.shape)"
   ]
  },
  {
   "cell_type": "code",
   "execution_count": 192,
   "metadata": {},
   "outputs": [
    {
     "data": {
      "text/plain": [
       "Product code                                    object\n",
       "Bureau of Meteorology station number             int64\n",
       "Year                                             int64\n",
       "Month                                            int64\n",
       "Day                                              int64\n",
       "Maximum temperature (Degree C)                 float64\n",
       "Days of accumulation of maximum temperature    float64\n",
       "Quality                                         object\n",
       "dtype: object"
      ]
     },
     "execution_count": 192,
     "metadata": {},
     "output_type": "execute_result"
    }
   ],
   "source": [
    "weather2018.dtypes"
   ]
  },
  {
   "cell_type": "code",
   "execution_count": 193,
   "metadata": {},
   "outputs": [
    {
     "data": {
      "text/html": [
       "<div>\n",
       "<style scoped>\n",
       "    .dataframe tbody tr th:only-of-type {\n",
       "        vertical-align: middle;\n",
       "    }\n",
       "\n",
       "    .dataframe tbody tr th {\n",
       "        vertical-align: top;\n",
       "    }\n",
       "\n",
       "    .dataframe thead th {\n",
       "        text-align: right;\n",
       "    }\n",
       "</style>\n",
       "<table border=\"1\" class=\"dataframe\">\n",
       "  <thead>\n",
       "    <tr style=\"text-align: right;\">\n",
       "      <th></th>\n",
       "      <th>Product code</th>\n",
       "      <th>Bureau of Meteorology station number</th>\n",
       "      <th>Year</th>\n",
       "      <th>Month</th>\n",
       "      <th>Day</th>\n",
       "      <th>Maximum temperature (Degree C)</th>\n",
       "      <th>Days of accumulation of maximum temperature</th>\n",
       "      <th>Quality</th>\n",
       "      <th>Date</th>\n",
       "    </tr>\n",
       "    <tr>\n",
       "      <th>Date</th>\n",
       "      <th></th>\n",
       "      <th></th>\n",
       "      <th></th>\n",
       "      <th></th>\n",
       "      <th></th>\n",
       "      <th></th>\n",
       "      <th></th>\n",
       "      <th></th>\n",
       "      <th></th>\n",
       "    </tr>\n",
       "  </thead>\n",
       "  <tbody>\n",
       "    <tr>\n",
       "      <th>2018-01-01</th>\n",
       "      <td>IDCJAC0010</td>\n",
       "      <td>66212</td>\n",
       "      <td>2018</td>\n",
       "      <td>1</td>\n",
       "      <td>1</td>\n",
       "      <td>30.9</td>\n",
       "      <td>1.0</td>\n",
       "      <td>Y</td>\n",
       "      <td>2018-01-01</td>\n",
       "    </tr>\n",
       "    <tr>\n",
       "      <th>2018-01-02</th>\n",
       "      <td>IDCJAC0010</td>\n",
       "      <td>66212</td>\n",
       "      <td>2018</td>\n",
       "      <td>1</td>\n",
       "      <td>2</td>\n",
       "      <td>28.8</td>\n",
       "      <td>1.0</td>\n",
       "      <td>Y</td>\n",
       "      <td>2018-01-02</td>\n",
       "    </tr>\n",
       "    <tr>\n",
       "      <th>2018-01-03</th>\n",
       "      <td>IDCJAC0010</td>\n",
       "      <td>66212</td>\n",
       "      <td>2018</td>\n",
       "      <td>1</td>\n",
       "      <td>3</td>\n",
       "      <td>25.3</td>\n",
       "      <td>1.0</td>\n",
       "      <td>Y</td>\n",
       "      <td>2018-01-03</td>\n",
       "    </tr>\n",
       "    <tr>\n",
       "      <th>2018-01-04</th>\n",
       "      <td>IDCJAC0010</td>\n",
       "      <td>66212</td>\n",
       "      <td>2018</td>\n",
       "      <td>1</td>\n",
       "      <td>4</td>\n",
       "      <td>25.4</td>\n",
       "      <td>1.0</td>\n",
       "      <td>Y</td>\n",
       "      <td>2018-01-04</td>\n",
       "    </tr>\n",
       "    <tr>\n",
       "      <th>2018-01-05</th>\n",
       "      <td>IDCJAC0010</td>\n",
       "      <td>66212</td>\n",
       "      <td>2018</td>\n",
       "      <td>1</td>\n",
       "      <td>5</td>\n",
       "      <td>28.9</td>\n",
       "      <td>1.0</td>\n",
       "      <td>Y</td>\n",
       "      <td>2018-01-05</td>\n",
       "    </tr>\n",
       "  </tbody>\n",
       "</table>\n",
       "</div>"
      ],
      "text/plain": [
       "           Product code  Bureau of Meteorology station number  Year  Month  \\\n",
       "Date                                                                         \n",
       "2018-01-01   IDCJAC0010                                 66212  2018      1   \n",
       "2018-01-02   IDCJAC0010                                 66212  2018      1   \n",
       "2018-01-03   IDCJAC0010                                 66212  2018      1   \n",
       "2018-01-04   IDCJAC0010                                 66212  2018      1   \n",
       "2018-01-05   IDCJAC0010                                 66212  2018      1   \n",
       "\n",
       "            Day  Maximum temperature (Degree C)  \\\n",
       "Date                                              \n",
       "2018-01-01    1                            30.9   \n",
       "2018-01-02    2                            28.8   \n",
       "2018-01-03    3                            25.3   \n",
       "2018-01-04    4                            25.4   \n",
       "2018-01-05    5                            28.9   \n",
       "\n",
       "            Days of accumulation of maximum temperature Quality       Date  \n",
       "Date                                                                        \n",
       "2018-01-01                                          1.0       Y 2018-01-01  \n",
       "2018-01-02                                          1.0       Y 2018-01-02  \n",
       "2018-01-03                                          1.0       Y 2018-01-03  \n",
       "2018-01-04                                          1.0       Y 2018-01-04  \n",
       "2018-01-05                                          1.0       Y 2018-01-05  "
      ]
     },
     "execution_count": 193,
     "metadata": {},
     "output_type": "execute_result"
    }
   ],
   "source": [
    "#Combining weather data of 2018 and 2019\n",
    "weather2018['Date']= pd.to_datetime(weather2018[['Year','Month','Day']])\n",
    "weather2019['Date']= pd.to_datetime(weather2019[['Year','Month','Day']])\n",
    "weather= [weather2018,weather2019]\n",
    "weatherDf= pd.concat(weather)\n",
    "weatherDf.index = weatherDf.Date\n",
    "weatherDf.shape\n",
    "weatherDf.head()"
   ]
  },
  {
   "cell_type": "code",
   "execution_count": 9,
   "metadata": {},
   "outputs": [],
   "source": [
    "import datetime as dt\n",
    "from datetime import date"
   ]
  },
  {
   "cell_type": "code",
   "execution_count": 194,
   "metadata": {},
   "outputs": [
    {
     "data": {
      "text/html": [
       "<div>\n",
       "<style scoped>\n",
       "    .dataframe tbody tr th:only-of-type {\n",
       "        vertical-align: middle;\n",
       "    }\n",
       "\n",
       "    .dataframe tbody tr th {\n",
       "        vertical-align: top;\n",
       "    }\n",
       "\n",
       "    .dataframe thead th {\n",
       "        text-align: right;\n",
       "    }\n",
       "</style>\n",
       "<table border=\"1\" class=\"dataframe\">\n",
       "  <thead>\n",
       "    <tr style=\"text-align: right;\">\n",
       "      <th></th>\n",
       "      <th>average_heartrate</th>\n",
       "      <th>average_temp</th>\n",
       "      <th>average_watts</th>\n",
       "      <th>device_watts</th>\n",
       "      <th>distance</th>\n",
       "      <th>elapsed_time</th>\n",
       "      <th>elevation_gain</th>\n",
       "      <th>kudos</th>\n",
       "      <th>moving_time</th>\n",
       "      <th>workout_type</th>\n",
       "      <th>...</th>\n",
       "      <th>Rest rMSSD</th>\n",
       "      <th>Rest PNN50</th>\n",
       "      <th>Rest LF</th>\n",
       "      <th>Rest HF</th>\n",
       "      <th>HRV Recovery Points</th>\n",
       "      <th>NP</th>\n",
       "      <th>IF</th>\n",
       "      <th>TSS</th>\n",
       "      <th>average_speed</th>\n",
       "      <th>elevation_gain_new</th>\n",
       "    </tr>\n",
       "  </thead>\n",
       "  <tbody>\n",
       "    <tr>\n",
       "      <th>2018-01-27 19:39:49+00:00</th>\n",
       "      <td>120.6</td>\n",
       "      <td>21.0</td>\n",
       "      <td>153.4</td>\n",
       "      <td>True</td>\n",
       "      <td>7.6</td>\n",
       "      <td>17</td>\n",
       "      <td>95.00 m</td>\n",
       "      <td>4</td>\n",
       "      <td>17</td>\n",
       "      <td>Ride</td>\n",
       "      <td>...</td>\n",
       "      <td>0</td>\n",
       "      <td>0</td>\n",
       "      <td>0</td>\n",
       "      <td>0</td>\n",
       "      <td>0</td>\n",
       "      <td>222.856</td>\n",
       "      <td>0.83155</td>\n",
       "      <td>20.2257</td>\n",
       "      <td>0.447059</td>\n",
       "      <td>95.0</td>\n",
       "    </tr>\n",
       "    <tr>\n",
       "      <th>2018-02-05 21:06:42+00:00</th>\n",
       "      <td>119.3</td>\n",
       "      <td>19.0</td>\n",
       "      <td>165.9</td>\n",
       "      <td>True</td>\n",
       "      <td>24.3</td>\n",
       "      <td>69</td>\n",
       "      <td>439.00 m</td>\n",
       "      <td>6</td>\n",
       "      <td>65</td>\n",
       "      <td>Ride</td>\n",
       "      <td>...</td>\n",
       "      <td>0</td>\n",
       "      <td>0</td>\n",
       "      <td>0</td>\n",
       "      <td>0</td>\n",
       "      <td>0</td>\n",
       "      <td>253.702</td>\n",
       "      <td>0.94665</td>\n",
       "      <td>98.3269</td>\n",
       "      <td>0.373846</td>\n",
       "      <td>439.0</td>\n",
       "    </tr>\n",
       "    <tr>\n",
       "      <th>2018-02-07 06:59:05+00:00</th>\n",
       "      <td>124.8</td>\n",
       "      <td>20.0</td>\n",
       "      <td>151.0</td>\n",
       "      <td>True</td>\n",
       "      <td>47.1</td>\n",
       "      <td>144</td>\n",
       "      <td>890.00 m</td>\n",
       "      <td>10</td>\n",
       "      <td>134</td>\n",
       "      <td>Ride</td>\n",
       "      <td>...</td>\n",
       "      <td>0</td>\n",
       "      <td>0</td>\n",
       "      <td>0</td>\n",
       "      <td>0</td>\n",
       "      <td>0</td>\n",
       "      <td>232.644</td>\n",
       "      <td>0.86808</td>\n",
       "      <td>171.0780</td>\n",
       "      <td>0.351493</td>\n",
       "      <td>890.0</td>\n",
       "    </tr>\n",
       "    <tr>\n",
       "      <th>2018-02-09 19:18:03+00:00</th>\n",
       "      <td>123.0</td>\n",
       "      <td>20.0</td>\n",
       "      <td>145.9</td>\n",
       "      <td>True</td>\n",
       "      <td>59.8</td>\n",
       "      <td>193</td>\n",
       "      <td>656.00 m</td>\n",
       "      <td>22</td>\n",
       "      <td>139</td>\n",
       "      <td>Ride</td>\n",
       "      <td>...</td>\n",
       "      <td>0</td>\n",
       "      <td>0</td>\n",
       "      <td>0</td>\n",
       "      <td>0</td>\n",
       "      <td>0</td>\n",
       "      <td>212.726</td>\n",
       "      <td>0.79375</td>\n",
       "      <td>147.7970</td>\n",
       "      <td>0.430216</td>\n",
       "      <td>656.0</td>\n",
       "    </tr>\n",
       "    <tr>\n",
       "      <th>2018-02-10 20:21:37+00:00</th>\n",
       "      <td>103.9</td>\n",
       "      <td>17.0</td>\n",
       "      <td>134.9</td>\n",
       "      <td>True</td>\n",
       "      <td>7.8</td>\n",
       "      <td>19</td>\n",
       "      <td>92.00 m</td>\n",
       "      <td>8</td>\n",
       "      <td>18</td>\n",
       "      <td>Ride</td>\n",
       "      <td>...</td>\n",
       "      <td>0</td>\n",
       "      <td>0</td>\n",
       "      <td>0</td>\n",
       "      <td>0</td>\n",
       "      <td>0</td>\n",
       "      <td>192.117</td>\n",
       "      <td>0.71685</td>\n",
       "      <td>15.7590</td>\n",
       "      <td>0.433333</td>\n",
       "      <td>92.0</td>\n",
       "    </tr>\n",
       "  </tbody>\n",
       "</table>\n",
       "<p>5 rows × 374 columns</p>\n",
       "</div>"
      ],
      "text/plain": [
       "                           average_heartrate  average_temp  average_watts  \\\n",
       "2018-01-27 19:39:49+00:00              120.6          21.0          153.4   \n",
       "2018-02-05 21:06:42+00:00              119.3          19.0          165.9   \n",
       "2018-02-07 06:59:05+00:00              124.8          20.0          151.0   \n",
       "2018-02-09 19:18:03+00:00              123.0          20.0          145.9   \n",
       "2018-02-10 20:21:37+00:00              103.9          17.0          134.9   \n",
       "\n",
       "                          device_watts  distance  elapsed_time elevation_gain  \\\n",
       "2018-01-27 19:39:49+00:00         True       7.6            17        95.00 m   \n",
       "2018-02-05 21:06:42+00:00         True      24.3            69       439.00 m   \n",
       "2018-02-07 06:59:05+00:00         True      47.1           144       890.00 m   \n",
       "2018-02-09 19:18:03+00:00         True      59.8           193       656.00 m   \n",
       "2018-02-10 20:21:37+00:00         True       7.8            19        92.00 m   \n",
       "\n",
       "                           kudos  moving_time workout_type  ... Rest rMSSD  \\\n",
       "2018-01-27 19:39:49+00:00      4           17         Ride  ...          0   \n",
       "2018-02-05 21:06:42+00:00      6           65         Ride  ...          0   \n",
       "2018-02-07 06:59:05+00:00     10          134         Ride  ...          0   \n",
       "2018-02-09 19:18:03+00:00     22          139         Ride  ...          0   \n",
       "2018-02-10 20:21:37+00:00      8           18         Ride  ...          0   \n",
       "\n",
       "                          Rest PNN50 Rest LF  Rest HF  HRV Recovery Points  \\\n",
       "2018-01-27 19:39:49+00:00          0       0        0                    0   \n",
       "2018-02-05 21:06:42+00:00          0       0        0                    0   \n",
       "2018-02-07 06:59:05+00:00          0       0        0                    0   \n",
       "2018-02-09 19:18:03+00:00          0       0        0                    0   \n",
       "2018-02-10 20:21:37+00:00          0       0        0                    0   \n",
       "\n",
       "                                NP       IF       TSS  average_speed  \\\n",
       "2018-01-27 19:39:49+00:00  222.856  0.83155   20.2257       0.447059   \n",
       "2018-02-05 21:06:42+00:00  253.702  0.94665   98.3269       0.373846   \n",
       "2018-02-07 06:59:05+00:00  232.644  0.86808  171.0780       0.351493   \n",
       "2018-02-09 19:18:03+00:00  212.726  0.79375  147.7970       0.430216   \n",
       "2018-02-10 20:21:37+00:00  192.117  0.71685   15.7590       0.433333   \n",
       "\n",
       "                           elevation_gain_new  \n",
       "2018-01-27 19:39:49+00:00                95.0  \n",
       "2018-02-05 21:06:42+00:00               439.0  \n",
       "2018-02-07 06:59:05+00:00               890.0  \n",
       "2018-02-09 19:18:03+00:00               656.0  \n",
       "2018-02-10 20:21:37+00:00                92.0  \n",
       "\n",
       "[5 rows x 374 columns]"
      ]
     },
     "execution_count": 194,
     "metadata": {},
     "output_type": "execute_result"
    }
   ],
   "source": [
    "RideDf.head()"
   ]
  },
  {
   "cell_type": "code",
   "execution_count": 195,
   "metadata": {},
   "outputs": [
    {
     "data": {
      "text/html": [
       "<div>\n",
       "<style scoped>\n",
       "    .dataframe tbody tr th:only-of-type {\n",
       "        vertical-align: middle;\n",
       "    }\n",
       "\n",
       "    .dataframe tbody tr th {\n",
       "        vertical-align: top;\n",
       "    }\n",
       "\n",
       "    .dataframe thead th {\n",
       "        text-align: right;\n",
       "    }\n",
       "</style>\n",
       "<table border=\"1\" class=\"dataframe\">\n",
       "  <thead>\n",
       "    <tr style=\"text-align: right;\">\n",
       "      <th></th>\n",
       "      <th>average_heartrate</th>\n",
       "      <th>average_temp</th>\n",
       "      <th>average_watts</th>\n",
       "      <th>device_watts</th>\n",
       "      <th>distance</th>\n",
       "      <th>elapsed_time</th>\n",
       "      <th>elevation_gain</th>\n",
       "      <th>kudos</th>\n",
       "      <th>moving_time</th>\n",
       "      <th>workout_type</th>\n",
       "      <th>...</th>\n",
       "      <th>Rest rMSSD</th>\n",
       "      <th>Rest PNN50</th>\n",
       "      <th>Rest LF</th>\n",
       "      <th>Rest HF</th>\n",
       "      <th>HRV Recovery Points</th>\n",
       "      <th>NP</th>\n",
       "      <th>IF</th>\n",
       "      <th>TSS</th>\n",
       "      <th>average_speed</th>\n",
       "      <th>elevation_gain_new</th>\n",
       "    </tr>\n",
       "  </thead>\n",
       "  <tbody>\n",
       "    <tr>\n",
       "      <th>2018-01-27</th>\n",
       "      <td>120.6</td>\n",
       "      <td>21.0</td>\n",
       "      <td>153.4</td>\n",
       "      <td>True</td>\n",
       "      <td>7.6</td>\n",
       "      <td>17</td>\n",
       "      <td>95.00 m</td>\n",
       "      <td>4</td>\n",
       "      <td>17</td>\n",
       "      <td>Ride</td>\n",
       "      <td>...</td>\n",
       "      <td>0</td>\n",
       "      <td>0</td>\n",
       "      <td>0</td>\n",
       "      <td>0</td>\n",
       "      <td>0</td>\n",
       "      <td>222.856</td>\n",
       "      <td>0.83155</td>\n",
       "      <td>20.2257</td>\n",
       "      <td>0.447059</td>\n",
       "      <td>95.0</td>\n",
       "    </tr>\n",
       "    <tr>\n",
       "      <th>2018-02-05</th>\n",
       "      <td>119.3</td>\n",
       "      <td>19.0</td>\n",
       "      <td>165.9</td>\n",
       "      <td>True</td>\n",
       "      <td>24.3</td>\n",
       "      <td>69</td>\n",
       "      <td>439.00 m</td>\n",
       "      <td>6</td>\n",
       "      <td>65</td>\n",
       "      <td>Ride</td>\n",
       "      <td>...</td>\n",
       "      <td>0</td>\n",
       "      <td>0</td>\n",
       "      <td>0</td>\n",
       "      <td>0</td>\n",
       "      <td>0</td>\n",
       "      <td>253.702</td>\n",
       "      <td>0.94665</td>\n",
       "      <td>98.3269</td>\n",
       "      <td>0.373846</td>\n",
       "      <td>439.0</td>\n",
       "    </tr>\n",
       "    <tr>\n",
       "      <th>2018-02-07</th>\n",
       "      <td>124.8</td>\n",
       "      <td>20.0</td>\n",
       "      <td>151.0</td>\n",
       "      <td>True</td>\n",
       "      <td>47.1</td>\n",
       "      <td>144</td>\n",
       "      <td>890.00 m</td>\n",
       "      <td>10</td>\n",
       "      <td>134</td>\n",
       "      <td>Ride</td>\n",
       "      <td>...</td>\n",
       "      <td>0</td>\n",
       "      <td>0</td>\n",
       "      <td>0</td>\n",
       "      <td>0</td>\n",
       "      <td>0</td>\n",
       "      <td>232.644</td>\n",
       "      <td>0.86808</td>\n",
       "      <td>171.0780</td>\n",
       "      <td>0.351493</td>\n",
       "      <td>890.0</td>\n",
       "    </tr>\n",
       "    <tr>\n",
       "      <th>2018-02-09</th>\n",
       "      <td>123.0</td>\n",
       "      <td>20.0</td>\n",
       "      <td>145.9</td>\n",
       "      <td>True</td>\n",
       "      <td>59.8</td>\n",
       "      <td>193</td>\n",
       "      <td>656.00 m</td>\n",
       "      <td>22</td>\n",
       "      <td>139</td>\n",
       "      <td>Ride</td>\n",
       "      <td>...</td>\n",
       "      <td>0</td>\n",
       "      <td>0</td>\n",
       "      <td>0</td>\n",
       "      <td>0</td>\n",
       "      <td>0</td>\n",
       "      <td>212.726</td>\n",
       "      <td>0.79375</td>\n",
       "      <td>147.7970</td>\n",
       "      <td>0.430216</td>\n",
       "      <td>656.0</td>\n",
       "    </tr>\n",
       "    <tr>\n",
       "      <th>2018-02-10</th>\n",
       "      <td>103.9</td>\n",
       "      <td>17.0</td>\n",
       "      <td>134.9</td>\n",
       "      <td>True</td>\n",
       "      <td>7.8</td>\n",
       "      <td>19</td>\n",
       "      <td>92.00 m</td>\n",
       "      <td>8</td>\n",
       "      <td>18</td>\n",
       "      <td>Ride</td>\n",
       "      <td>...</td>\n",
       "      <td>0</td>\n",
       "      <td>0</td>\n",
       "      <td>0</td>\n",
       "      <td>0</td>\n",
       "      <td>0</td>\n",
       "      <td>192.117</td>\n",
       "      <td>0.71685</td>\n",
       "      <td>15.7590</td>\n",
       "      <td>0.433333</td>\n",
       "      <td>92.0</td>\n",
       "    </tr>\n",
       "  </tbody>\n",
       "</table>\n",
       "<p>5 rows × 374 columns</p>\n",
       "</div>"
      ],
      "text/plain": [
       "            average_heartrate  average_temp  average_watts device_watts  \\\n",
       "2018-01-27              120.6          21.0          153.4         True   \n",
       "2018-02-05              119.3          19.0          165.9         True   \n",
       "2018-02-07              124.8          20.0          151.0         True   \n",
       "2018-02-09              123.0          20.0          145.9         True   \n",
       "2018-02-10              103.9          17.0          134.9         True   \n",
       "\n",
       "            distance  elapsed_time elevation_gain  kudos  moving_time  \\\n",
       "2018-01-27       7.6            17        95.00 m      4           17   \n",
       "2018-02-05      24.3            69       439.00 m      6           65   \n",
       "2018-02-07      47.1           144       890.00 m     10          134   \n",
       "2018-02-09      59.8           193       656.00 m     22          139   \n",
       "2018-02-10       7.8            19        92.00 m      8           18   \n",
       "\n",
       "           workout_type  ... Rest rMSSD Rest PNN50 Rest LF  Rest HF  \\\n",
       "2018-01-27         Ride  ...          0          0       0        0   \n",
       "2018-02-05         Ride  ...          0          0       0        0   \n",
       "2018-02-07         Ride  ...          0          0       0        0   \n",
       "2018-02-09         Ride  ...          0          0       0        0   \n",
       "2018-02-10         Ride  ...          0          0       0        0   \n",
       "\n",
       "            HRV Recovery Points       NP       IF       TSS  average_speed  \\\n",
       "2018-01-27                    0  222.856  0.83155   20.2257       0.447059   \n",
       "2018-02-05                    0  253.702  0.94665   98.3269       0.373846   \n",
       "2018-02-07                    0  232.644  0.86808  171.0780       0.351493   \n",
       "2018-02-09                    0  212.726  0.79375  147.7970       0.430216   \n",
       "2018-02-10                    0  192.117  0.71685   15.7590       0.433333   \n",
       "\n",
       "            elevation_gain_new  \n",
       "2018-01-27                95.0  \n",
       "2018-02-05               439.0  \n",
       "2018-02-07               890.0  \n",
       "2018-02-09               656.0  \n",
       "2018-02-10                92.0  \n",
       "\n",
       "[5 rows x 374 columns]"
      ]
     },
     "execution_count": 195,
     "metadata": {},
     "output_type": "execute_result"
    }
   ],
   "source": [
    "#Re-format Ride Dataset from datetime index to date index \n",
    "RideDf.index = RideDf.index.date\n",
    "RideDf.head()"
   ]
  },
  {
   "cell_type": "code",
   "execution_count": 196,
   "metadata": {
    "tags": []
   },
   "outputs": [
    {
     "name": "stdout",
     "output_type": "stream",
     "text": [
      "           Product code  Bureau of Meteorology station number  Year  Month  \\\n",
      "2018-01-27   IDCJAC0010                                 66212  2018      1   \n",
      "2018-02-05   IDCJAC0010                                 66212  2018      2   \n",
      "2018-02-07   IDCJAC0010                                 66212  2018      2   \n",
      "2018-02-09   IDCJAC0010                                 66212  2018      2   \n",
      "2018-02-10   IDCJAC0010                                 66212  2018      2   \n",
      "\n",
      "            Day  Maximum temperature (Degree C)  \\\n",
      "2018-01-27   27                            30.4   \n",
      "2018-02-05    5                            27.4   \n",
      "2018-02-07    7                            28.1   \n",
      "2018-02-09    9                            31.9   \n",
      "2018-02-10   10                            30.3   \n",
      "\n",
      "            Days of accumulation of maximum temperature Quality       Date  \\\n",
      "2018-01-27                                          1.0       Y 2018-01-27   \n",
      "2018-02-05                                          1.0       Y 2018-02-05   \n",
      "2018-02-07                                          1.0       Y 2018-02-07   \n",
      "2018-02-09                                          1.0       Y 2018-02-09   \n",
      "2018-02-10                                          1.0       Y 2018-02-10   \n",
      "\n",
      "            average_heartrate  ...  Rest rMSSD  Rest PNN50 Rest LF  Rest HF  \\\n",
      "2018-01-27              120.6  ...           0           0       0        0   \n",
      "2018-02-05              119.3  ...           0           0       0        0   \n",
      "2018-02-07              124.8  ...           0           0       0        0   \n",
      "2018-02-09              123.0  ...           0           0       0        0   \n",
      "2018-02-10              103.9  ...           0           0       0        0   \n",
      "\n",
      "            HRV Recovery Points       NP       IF       TSS average_speed  \\\n",
      "2018-01-27                    0  222.856  0.83155   20.2257      0.447059   \n",
      "2018-02-05                    0  253.702  0.94665   98.3269      0.373846   \n",
      "2018-02-07                    0  232.644  0.86808  171.0780      0.351493   \n",
      "2018-02-09                    0  212.726  0.79375  147.7970      0.430216   \n",
      "2018-02-10                    0  192.117  0.71685   15.7590      0.433333   \n",
      "\n",
      "           elevation_gain_new  \n",
      "2018-01-27               95.0  \n",
      "2018-02-05              439.0  \n",
      "2018-02-07              890.0  \n",
      "2018-02-09              656.0  \n",
      "2018-02-10               92.0  \n",
      "\n",
      "[5 rows x 383 columns]\n",
      "(155, 383)\n"
     ]
    }
   ],
   "source": [
    "#Combine weather dataset and ride dataset\n",
    "weather_ride= pd.concat([weatherDf, RideDf], axis=1, join='inner')\n",
    "print(weather_ride.head())\n",
    "print(weather_ride.shape)"
   ]
  },
  {
   "cell_type": "markdown",
   "metadata": {},
   "source": [
    "Now, we are interested in distance travelled per ride, average speed of ride and the temperature"
   ]
  },
  {
   "cell_type": "code",
   "execution_count": 198,
   "metadata": {
    "tags": []
   },
   "outputs": [
    {
     "name": "stdout",
     "output_type": "stream",
     "text": [
      "(155, 3)\n"
     ]
    }
   ],
   "source": [
    "# Create a new df to represent those features\n",
    "distance_tempC = weather_ride[['distance','Maximum temperature (Degree C)','average_speed']]\n",
    "print(distance_tempC .shape)"
   ]
  },
  {
   "cell_type": "code",
   "execution_count": 199,
   "metadata": {},
   "outputs": [
    {
     "data": {
      "text/html": [
       "<div>\n",
       "<style scoped>\n",
       "    .dataframe tbody tr th:only-of-type {\n",
       "        vertical-align: middle;\n",
       "    }\n",
       "\n",
       "    .dataframe tbody tr th {\n",
       "        vertical-align: top;\n",
       "    }\n",
       "\n",
       "    .dataframe thead th {\n",
       "        text-align: right;\n",
       "    }\n",
       "</style>\n",
       "<table border=\"1\" class=\"dataframe\">\n",
       "  <thead>\n",
       "    <tr style=\"text-align: right;\">\n",
       "      <th></th>\n",
       "      <th>distance</th>\n",
       "      <th>Maximum temperature (Degree C)</th>\n",
       "      <th>average_speed</th>\n",
       "    </tr>\n",
       "  </thead>\n",
       "  <tbody>\n",
       "    <tr>\n",
       "      <th>distance</th>\n",
       "      <td>1.000000</td>\n",
       "      <td>-0.015837</td>\n",
       "      <td>0.337015</td>\n",
       "    </tr>\n",
       "    <tr>\n",
       "      <th>Maximum temperature (Degree C)</th>\n",
       "      <td>-0.015837</td>\n",
       "      <td>1.000000</td>\n",
       "      <td>-0.200839</td>\n",
       "    </tr>\n",
       "    <tr>\n",
       "      <th>average_speed</th>\n",
       "      <td>0.337015</td>\n",
       "      <td>-0.200839</td>\n",
       "      <td>1.000000</td>\n",
       "    </tr>\n",
       "  </tbody>\n",
       "</table>\n",
       "</div>"
      ],
      "text/plain": [
       "                                distance  Maximum temperature (Degree C)  \\\n",
       "distance                        1.000000                       -0.015837   \n",
       "Maximum temperature (Degree C) -0.015837                        1.000000   \n",
       "average_speed                   0.337015                       -0.200839   \n",
       "\n",
       "                                average_speed  \n",
       "distance                             0.337015  \n",
       "Maximum temperature (Degree C)      -0.200839  \n",
       "average_speed                        1.000000  "
      ]
     },
     "execution_count": 199,
     "metadata": {},
     "output_type": "execute_result"
    }
   ],
   "source": [
    "distance_tempC.corr()"
   ]
  },
  {
   "cell_type": "markdown",
   "metadata": {},
   "source": [
    "#### Relationships observed: \n",
    "- Distance travelled per ride is negatively correlated with the temperature. This is because people are more likely to ride longer when the weather is cooler.\n",
    "- Average speed is also negatively correlated with the temperature. This is because people are more likely to ride faster when the weather is cooler.\n"
   ]
  },
  {
   "cell_type": "markdown",
   "metadata": {},
   "source": [
    "## Exploring what leads to more kudos"
   ]
  },
  {
   "cell_type": "code",
   "execution_count": 202,
   "metadata": {},
   "outputs": [],
   "source": [
    "#Cleaning \"elevation_gain\" data in weatherCombinedRide dataframe\n",
    "weather_ride['elevation_gain_new']=weather_ride.elevation_gain.str.replace(' ','').str.replace('m','').astype(float)"
   ]
  },
  {
   "cell_type": "code",
   "execution_count": 203,
   "metadata": {},
   "outputs": [],
   "source": [
    "#Calculate Average Speed\n",
    "weather_ride['average_speed'] = weather_ride['distance']/weather_ride['moving_time']"
   ]
  },
  {
   "cell_type": "code",
   "execution_count": 204,
   "metadata": {},
   "outputs": [],
   "source": [
    "#Create a new dataframe with interesting features that can potentially lead to more kudos\n",
    "kudos_df = weather_ride[['kudos','Maximum temperature (Degree C)','distance','moving_time','average_speed','average_heartrate','average_watts','NP','TSS','elevation_gain_new']]"
   ]
  },
  {
   "cell_type": "code",
   "execution_count": 205,
   "metadata": {},
   "outputs": [
    {
     "data": {
      "text/html": [
       "<div>\n",
       "<style scoped>\n",
       "    .dataframe tbody tr th:only-of-type {\n",
       "        vertical-align: middle;\n",
       "    }\n",
       "\n",
       "    .dataframe tbody tr th {\n",
       "        vertical-align: top;\n",
       "    }\n",
       "\n",
       "    .dataframe thead th {\n",
       "        text-align: right;\n",
       "    }\n",
       "</style>\n",
       "<table border=\"1\" class=\"dataframe\">\n",
       "  <thead>\n",
       "    <tr style=\"text-align: right;\">\n",
       "      <th></th>\n",
       "      <th>kudos</th>\n",
       "      <th>Maximum temperature (Degree C)</th>\n",
       "      <th>distance</th>\n",
       "      <th>moving_time</th>\n",
       "      <th>average_speed</th>\n",
       "      <th>average_heartrate</th>\n",
       "      <th>average_watts</th>\n",
       "      <th>NP</th>\n",
       "      <th>TSS</th>\n",
       "      <th>elevation_gain_new</th>\n",
       "    </tr>\n",
       "  </thead>\n",
       "  <tbody>\n",
       "    <tr>\n",
       "      <th>kudos</th>\n",
       "      <td>1.000000</td>\n",
       "      <td>0.005531</td>\n",
       "      <td>0.861759</td>\n",
       "      <td>0.843509</td>\n",
       "      <td>0.252803</td>\n",
       "      <td>0.319804</td>\n",
       "      <td>0.166670</td>\n",
       "      <td>0.307452</td>\n",
       "      <td>0.802093</td>\n",
       "      <td>0.754719</td>\n",
       "    </tr>\n",
       "    <tr>\n",
       "      <th>Maximum temperature (Degree C)</th>\n",
       "      <td>0.005531</td>\n",
       "      <td>1.000000</td>\n",
       "      <td>-0.015837</td>\n",
       "      <td>0.030569</td>\n",
       "      <td>-0.200839</td>\n",
       "      <td>-0.017606</td>\n",
       "      <td>-0.133781</td>\n",
       "      <td>-0.110883</td>\n",
       "      <td>-0.023819</td>\n",
       "      <td>0.089082</td>\n",
       "    </tr>\n",
       "    <tr>\n",
       "      <th>distance</th>\n",
       "      <td>0.861759</td>\n",
       "      <td>-0.015837</td>\n",
       "      <td>1.000000</td>\n",
       "      <td>0.954043</td>\n",
       "      <td>0.337015</td>\n",
       "      <td>0.335564</td>\n",
       "      <td>0.212389</td>\n",
       "      <td>0.363730</td>\n",
       "      <td>0.924269</td>\n",
       "      <td>0.871906</td>\n",
       "    </tr>\n",
       "    <tr>\n",
       "      <th>moving_time</th>\n",
       "      <td>0.843509</td>\n",
       "      <td>0.030569</td>\n",
       "      <td>0.954043</td>\n",
       "      <td>1.000000</td>\n",
       "      <td>0.101752</td>\n",
       "      <td>0.275879</td>\n",
       "      <td>0.149598</td>\n",
       "      <td>0.184982</td>\n",
       "      <td>0.876596</td>\n",
       "      <td>0.877866</td>\n",
       "    </tr>\n",
       "    <tr>\n",
       "      <th>average_speed</th>\n",
       "      <td>0.252803</td>\n",
       "      <td>-0.200839</td>\n",
       "      <td>0.337015</td>\n",
       "      <td>0.101752</td>\n",
       "      <td>1.000000</td>\n",
       "      <td>0.487086</td>\n",
       "      <td>0.621059</td>\n",
       "      <td>0.692507</td>\n",
       "      <td>0.307187</td>\n",
       "      <td>0.103851</td>\n",
       "    </tr>\n",
       "    <tr>\n",
       "      <th>average_heartrate</th>\n",
       "      <td>0.319804</td>\n",
       "      <td>-0.017606</td>\n",
       "      <td>0.335564</td>\n",
       "      <td>0.275879</td>\n",
       "      <td>0.487086</td>\n",
       "      <td>1.000000</td>\n",
       "      <td>0.439563</td>\n",
       "      <td>0.503670</td>\n",
       "      <td>0.348124</td>\n",
       "      <td>0.303779</td>\n",
       "    </tr>\n",
       "    <tr>\n",
       "      <th>average_watts</th>\n",
       "      <td>0.166670</td>\n",
       "      <td>-0.133781</td>\n",
       "      <td>0.212389</td>\n",
       "      <td>0.149598</td>\n",
       "      <td>0.621059</td>\n",
       "      <td>0.439563</td>\n",
       "      <td>1.000000</td>\n",
       "      <td>0.702389</td>\n",
       "      <td>0.375653</td>\n",
       "      <td>0.064008</td>\n",
       "    </tr>\n",
       "    <tr>\n",
       "      <th>NP</th>\n",
       "      <td>0.307452</td>\n",
       "      <td>-0.110883</td>\n",
       "      <td>0.363730</td>\n",
       "      <td>0.184982</td>\n",
       "      <td>0.692507</td>\n",
       "      <td>0.503670</td>\n",
       "      <td>0.702389</td>\n",
       "      <td>1.000000</td>\n",
       "      <td>0.535203</td>\n",
       "      <td>0.353084</td>\n",
       "    </tr>\n",
       "    <tr>\n",
       "      <th>TSS</th>\n",
       "      <td>0.802093</td>\n",
       "      <td>-0.023819</td>\n",
       "      <td>0.924269</td>\n",
       "      <td>0.876596</td>\n",
       "      <td>0.307187</td>\n",
       "      <td>0.348124</td>\n",
       "      <td>0.375653</td>\n",
       "      <td>0.535203</td>\n",
       "      <td>1.000000</td>\n",
       "      <td>0.880448</td>\n",
       "    </tr>\n",
       "    <tr>\n",
       "      <th>elevation_gain_new</th>\n",
       "      <td>0.754719</td>\n",
       "      <td>0.089082</td>\n",
       "      <td>0.871906</td>\n",
       "      <td>0.877866</td>\n",
       "      <td>0.103851</td>\n",
       "      <td>0.303779</td>\n",
       "      <td>0.064008</td>\n",
       "      <td>0.353084</td>\n",
       "      <td>0.880448</td>\n",
       "      <td>1.000000</td>\n",
       "    </tr>\n",
       "  </tbody>\n",
       "</table>\n",
       "</div>"
      ],
      "text/plain": [
       "                                   kudos  Maximum temperature (Degree C)  \\\n",
       "kudos                           1.000000                        0.005531   \n",
       "Maximum temperature (Degree C)  0.005531                        1.000000   \n",
       "distance                        0.861759                       -0.015837   \n",
       "moving_time                     0.843509                        0.030569   \n",
       "average_speed                   0.252803                       -0.200839   \n",
       "average_heartrate               0.319804                       -0.017606   \n",
       "average_watts                   0.166670                       -0.133781   \n",
       "NP                              0.307452                       -0.110883   \n",
       "TSS                             0.802093                       -0.023819   \n",
       "elevation_gain_new              0.754719                        0.089082   \n",
       "\n",
       "                                distance  moving_time  average_speed  \\\n",
       "kudos                           0.861759     0.843509       0.252803   \n",
       "Maximum temperature (Degree C) -0.015837     0.030569      -0.200839   \n",
       "distance                        1.000000     0.954043       0.337015   \n",
       "moving_time                     0.954043     1.000000       0.101752   \n",
       "average_speed                   0.337015     0.101752       1.000000   \n",
       "average_heartrate               0.335564     0.275879       0.487086   \n",
       "average_watts                   0.212389     0.149598       0.621059   \n",
       "NP                              0.363730     0.184982       0.692507   \n",
       "TSS                             0.924269     0.876596       0.307187   \n",
       "elevation_gain_new              0.871906     0.877866       0.103851   \n",
       "\n",
       "                                average_heartrate  average_watts        NP  \\\n",
       "kudos                                    0.319804       0.166670  0.307452   \n",
       "Maximum temperature (Degree C)          -0.017606      -0.133781 -0.110883   \n",
       "distance                                 0.335564       0.212389  0.363730   \n",
       "moving_time                              0.275879       0.149598  0.184982   \n",
       "average_speed                            0.487086       0.621059  0.692507   \n",
       "average_heartrate                        1.000000       0.439563  0.503670   \n",
       "average_watts                            0.439563       1.000000  0.702389   \n",
       "NP                                       0.503670       0.702389  1.000000   \n",
       "TSS                                      0.348124       0.375653  0.535203   \n",
       "elevation_gain_new                       0.303779       0.064008  0.353084   \n",
       "\n",
       "                                     TSS  elevation_gain_new  \n",
       "kudos                           0.802093            0.754719  \n",
       "Maximum temperature (Degree C) -0.023819            0.089082  \n",
       "distance                        0.924269            0.871906  \n",
       "moving_time                     0.876596            0.877866  \n",
       "average_speed                   0.307187            0.103851  \n",
       "average_heartrate               0.348124            0.303779  \n",
       "average_watts                   0.375653            0.064008  \n",
       "NP                              0.535203            0.353084  \n",
       "TSS                             1.000000            0.880448  \n",
       "elevation_gain_new              0.880448            1.000000  "
      ]
     },
     "execution_count": 205,
     "metadata": {},
     "output_type": "execute_result"
    }
   ],
   "source": [
    "kudos_df.corr()"
   ]
  },
  {
   "cell_type": "markdown",
   "metadata": {},
   "source": [
    "Distance, Moving Time, and Training Stress Scored are positively correlated with kudos. Therefore, longer distance, longer moving time, higher trainning stress score are more likely to lead to more kudos. In other words, rides with longer distance and moving time are more popular. "
   ]
  },
  {
   "cell_type": "code",
   "execution_count": 209,
   "metadata": {},
   "outputs": [
    {
     "data": {
      "text/html": [
       "\n",
       "\n",
       "\n",
       "\n",
       "\n",
       "\n",
       "  <div class=\"bk-root\" id=\"3cd2db9a-ff4f-47d8-bca3-865033087329\" data-root-id=\"6186\"></div>\n"
      ]
     },
     "metadata": {},
     "output_type": "display_data"
    },
    {
     "data": {
      "application/javascript": [
       "(function(root) {\n",
       "  function embed_document(root) {\n",
       "    \n",
       "  var docs_json = {\"b55187a5-8f48-482d-9db7-491586f3d649\":{\"roots\":{\"references\":[{\"attributes\":{\"below\":[{\"id\":\"6197\"}],\"center\":[{\"id\":\"6200\"},{\"id\":\"6204\"}],\"left\":[{\"id\":\"6201\"}],\"renderers\":[{\"id\":\"6222\"}],\"title\":{\"id\":\"6187\"},\"toolbar\":{\"id\":\"6212\"},\"x_range\":{\"id\":\"6189\"},\"x_scale\":{\"id\":\"6193\"},\"y_range\":{\"id\":\"6191\"},\"y_scale\":{\"id\":\"6195\"}},\"id\":\"6186\",\"subtype\":\"Figure\",\"type\":\"Plot\"},{\"attributes\":{\"axis_label\":\"Kudos\",\"formatter\":{\"id\":\"6346\"},\"ticker\":{\"id\":\"6202\"}},\"id\":\"6201\",\"type\":\"LinearAxis\"},{\"attributes\":{},\"id\":\"6189\",\"type\":\"DataRange1d\"},{\"attributes\":{},\"id\":\"6208\",\"type\":\"SaveTool\"},{\"attributes\":{},\"id\":\"6348\",\"type\":\"UnionRenderers\"},{\"attributes\":{\"text\":\"The relationship between distance of a ride and its popularity\"},\"id\":\"6187\",\"type\":\"Title\"},{\"attributes\":{},\"id\":\"6195\",\"type\":\"LinearScale\"},{\"attributes\":{},\"id\":\"6344\",\"type\":\"BasicTickFormatter\"},{\"attributes\":{},\"id\":\"6202\",\"type\":\"BasicTicker\"},{\"attributes\":{\"active_drag\":\"auto\",\"active_inspect\":\"auto\",\"active_multi\":null,\"active_scroll\":\"auto\",\"active_tap\":\"auto\",\"tools\":[{\"id\":\"6205\"},{\"id\":\"6206\"},{\"id\":\"6207\"},{\"id\":\"6208\"},{\"id\":\"6209\"},{\"id\":\"6210\"}]},\"id\":\"6212\",\"type\":\"Toolbar\"},{\"attributes\":{\"axis_label\":\"Distance\",\"formatter\":{\"id\":\"6344\"},\"ticker\":{\"id\":\"6198\"}},\"id\":\"6197\",\"type\":\"LinearAxis\"},{\"attributes\":{},\"id\":\"6191\",\"type\":\"DataRange1d\"},{\"attributes\":{\"bottom_units\":\"screen\",\"fill_alpha\":0.5,\"fill_color\":\"lightgrey\",\"left_units\":\"screen\",\"level\":\"overlay\",\"line_alpha\":1.0,\"line_color\":\"black\",\"line_dash\":[4,4],\"line_width\":2,\"right_units\":\"screen\",\"top_units\":\"screen\"},\"id\":\"6211\",\"type\":\"BoxAnnotation\"},{\"attributes\":{\"data\":{\"x\":{\"__ndarray__\":\"ZmZmZmZmHkDNzMzMzEw4QM3MzMzMjEdAZmZmZmbmTUAzMzMzMzMfQGZmZmZm5kdAzczMzMzMIUDNzMzMzExNQJqZmZmZGTRAzczMzMxMR0DNzMzMzMwhQAAAAAAAgElAAAAAAAAAJ0DNzMzMzAxOQJqZmZmZmTRAmpmZmZlZQEAAAAAAAIBNQDMzMzMzs05AAAAAAABAS0AAAAAAAAAkQM3MzMzMzE5AMzMzMzNzVEAAAAAAAIBHQAAAAAAAACJAzczMzMzMTUDNzMzMzMwzQM3MzMzMzDdAAAAAAADAQ0AzMzMzM/NAQM3MzMzMDFtAZmZmZmZmIkDNzMzMzMwgQM3MzMzMzE1AMzMzMzNzTUDNzMzMzAxNQJqZmZmZ2U1AmpmZmZmZE0AAAAAAAEBJQGZmZmZm5kxAmpmZmZlZTUDNzMzMzAxQQJqZmZmZmU1AMzMzMzPzRUDNzMzMzMxOQM3MzMzMzEtAMzMzMzOzRUAAAAAAAAAnQJqZmZmZmSVAzczMzMxMO0AzMzMzM7M/QGZmZmZmZjlAmpmZmZnZTUAAAAAAAIA7QDMzMzMz80FAZmZmZmZmS0AzMzMzM/NTQGZmZmZmZjhAZmZmZmZmIkBmZmZmZiZAQAAAAAAAgE1AMzMzMzOzM0AAAAAAAAA4QJqZmZmZmSdAZmZmZmZmIkDNzMzMzExHQJqZmZmZmU1AZmZmZmbGU0CamZmZmdlPQJqZmZmZ2U5AzczMzMzMLUDNzMzMzMxNQM3MzMzMzCdAZmZmZmZmGkAzMzMzM7NPQAAAAAAAYFBAAAAAAAAAOkDNzMzMzExRQGZmZmZmZk5AmpmZmZkZSkBmZmZmZiZSQM3MzMzMjEBAAAAAAAAAUUBmZmZmZmYgQGZmZmZmZiNAAAAAAADATUDNzMzMzMwhQJqZmZmZ2UxAmpmZmZmZIkCamZmZmZklQJqZmZmZmQVAAAAAAAAACEBmZmZmZuZNQJqZmZmZ2U1AMzMzMzMzNEAzMzMzM/NAQGZmZmZmpk1AzczMzMzMEkAAAAAAAAA5QAAAAAAAADpAmpmZmZnZTUAzMzMzMzNTQGZmZmZmZjVAMzMzMzMzE0AzMzMzM3NaQAAAAAAAgDZAzczMzMzMM0BmZmZmZuY3QDMzMzMzs01AZmZmZmZmIkCamZmZmZkmQAAAAAAAAD1AmpmZmZkZTkDNzMzMzMwzQDMzMzMzc0BAMzMzMzMzFUBmZmZmZqZOQM3MzMzMzE1AzczMzMxMNEAAAAAAAABBQM3MzMzMzChAMzMzMzNzSECamZmZmZkNQGZmZmZmZk9AMzMzMzOzRUDNzMzMzMxNQM3MzMzMzDNAzczMzMzMN0DNzMzMzExAQAAAAAAAIFFAMzMzMzOzPkAzMzMzM7NAQM3MzMzMzE1AzczMzMzMJEAzMzMzMzMnQAAAAAAAQExAAAAAAAAAKEAzMzMzMzNNQAAAAAAAABJAzczMzMwMTUBmZmZmZmYkQJqZmZmZmS9AmpmZmZlZTUDNzMzMzMwmQM3MzMzMzCtAMzMzMzMzIkBmZmZmZmY8QGZmZmZm5jxAMzMzMzOzTUAzMzMzMzMfQM3MzMzMjExAmpmZmZmZEUCamZmZmRlNQM3MzMzMzE1AzczMzMzMM0AzMzMzMzM0QA==\",\"dtype\":\"float64\",\"order\":\"little\",\"shape\":[155]},\"y\":[4,6,10,22,8,6,5,19,8,8,4,8,7,14,10,14,13,18,18,6,16,14,11,6,18,8,11,17,17,22,7,6,16,13,14,16,7,12,20,16,14,19,14,17,16,18,6,5,8,9,5,22,8,7,18,23,10,6,9,20,6,5,3,5,11,19,16,19,14,8,16,5,3,14,14,7,14,17,14,11,14,15,9,8,14,4,17,6,9,2,2,18,19,6,10,18,4,10,3,15,20,9,3,22,12,5,7,18,8,4,5,14,6,10,4,14,19,8,10,14,22,5,21,13,18,7,11,11,15,8,9,18,3,3,15,7,20,2,13,7,7,14,2,5,3,8,9,18,3,13,5,16,15,6,6]},\"selected\":{\"id\":\"6349\"},\"selection_policy\":{\"id\":\"6348\"}},\"id\":\"6219\",\"type\":\"ColumnDataSource\"},{\"attributes\":{\"source\":{\"id\":\"6219\"}},\"id\":\"6223\",\"type\":\"CDSView\"},{\"attributes\":{\"overlay\":{\"id\":\"6211\"}},\"id\":\"6207\",\"type\":\"BoxZoomTool\"},{\"attributes\":{},\"id\":\"6210\",\"type\":\"HelpTool\"},{\"attributes\":{\"data_source\":{\"id\":\"6219\"},\"glyph\":{\"id\":\"6220\"},\"hover_glyph\":null,\"muted_glyph\":null,\"nonselection_glyph\":{\"id\":\"6221\"},\"selection_glyph\":null,\"view\":{\"id\":\"6223\"}},\"id\":\"6222\",\"type\":\"GlyphRenderer\"},{\"attributes\":{\"axis\":{\"id\":\"6201\"},\"dimension\":1,\"ticker\":null},\"id\":\"6204\",\"type\":\"Grid\"},{\"attributes\":{\"fill_alpha\":{\"value\":0.1},\"fill_color\":{\"value\":\"red\"},\"line_alpha\":{\"value\":0.1},\"line_color\":{\"value\":\"red\"},\"size\":{\"units\":\"screen\",\"value\":9},\"x\":{\"field\":\"x\"},\"y\":{\"field\":\"y\"}},\"id\":\"6221\",\"type\":\"Circle\"},{\"attributes\":{},\"id\":\"6346\",\"type\":\"BasicTickFormatter\"},{\"attributes\":{},\"id\":\"6349\",\"type\":\"Selection\"},{\"attributes\":{},\"id\":\"6198\",\"type\":\"BasicTicker\"},{\"attributes\":{},\"id\":\"6193\",\"type\":\"LinearScale\"},{\"attributes\":{},\"id\":\"6206\",\"type\":\"WheelZoomTool\"},{\"attributes\":{},\"id\":\"6209\",\"type\":\"ResetTool\"},{\"attributes\":{\"axis\":{\"id\":\"6197\"},\"ticker\":null},\"id\":\"6200\",\"type\":\"Grid\"},{\"attributes\":{\"fill_alpha\":{\"value\":0.5},\"fill_color\":{\"value\":\"red\"},\"line_alpha\":{\"value\":0.5},\"line_color\":{\"value\":\"red\"},\"size\":{\"units\":\"screen\",\"value\":9},\"x\":{\"field\":\"x\"},\"y\":{\"field\":\"y\"}},\"id\":\"6220\",\"type\":\"Circle\"},{\"attributes\":{},\"id\":\"6205\",\"type\":\"PanTool\"}],\"root_ids\":[\"6186\"]},\"title\":\"Bokeh Application\",\"version\":\"2.1.1\"}};\n",
       "  var render_items = [{\"docid\":\"b55187a5-8f48-482d-9db7-491586f3d649\",\"root_ids\":[\"6186\"],\"roots\":{\"6186\":\"3cd2db9a-ff4f-47d8-bca3-865033087329\"}}];\n",
       "  root.Bokeh.embed.embed_items_notebook(docs_json, render_items);\n",
       "\n",
       "  }\n",
       "  if (root.Bokeh !== undefined) {\n",
       "    embed_document(root);\n",
       "  } else {\n",
       "    var attempts = 0;\n",
       "    var timer = setInterval(function(root) {\n",
       "      if (root.Bokeh !== undefined) {\n",
       "        clearInterval(timer);\n",
       "        embed_document(root);\n",
       "      } else {\n",
       "        attempts++;\n",
       "        if (attempts > 100) {\n",
       "          clearInterval(timer);\n",
       "          console.log(\"Bokeh: ERROR: Unable to run BokehJS code because BokehJS library is missing\");\n",
       "        }\n",
       "      }\n",
       "    }, 10, root)\n",
       "  }\n",
       "})(window);"
      ],
      "application/vnd.bokehjs_exec.v0+json": ""
     },
     "metadata": {
      "application/vnd.bokehjs_exec.v0+json": {
       "id": "6186"
      }
     },
     "output_type": "display_data"
    }
   ],
   "source": [
    "x_red = kudos_df.distance\n",
    "y_red = kudos_df.kudos\n",
    "\n",
    "plot = figure(title = 'The relationship between distance of a ride and its popularity')\n",
    "plot.circle(x_red, y_red, size = 9, color = 'red', alpha = 0.5)\n",
    "\n",
    "plot.xaxis.axis_label=\"Distance\"\n",
    "plot.yaxis.axis_label= \"Kudos\"\n",
    "\n",
    "plot.legend.location = \"top_left\"\n",
    "show(plot)\n"
   ]
  },
  {
   "cell_type": "code",
   "execution_count": 211,
   "metadata": {},
   "outputs": [
    {
     "data": {
      "text/html": [
       "\n",
       "\n",
       "\n",
       "\n",
       "\n",
       "\n",
       "  <div class=\"bk-root\" id=\"ec83c58e-fc1e-411d-9e9f-5191d05da7ec\" data-root-id=\"6830\"></div>\n"
      ]
     },
     "metadata": {},
     "output_type": "display_data"
    },
    {
     "data": {
      "application/javascript": [
       "(function(root) {\n",
       "  function embed_document(root) {\n",
       "    \n",
       "  var docs_json = {\"c7d5c8e1-ecd9-4f48-aae9-a98a4fe0545f\":{\"roots\":{\"references\":[{\"attributes\":{\"below\":[{\"id\":\"6841\"}],\"center\":[{\"id\":\"6844\"},{\"id\":\"6848\"}],\"left\":[{\"id\":\"6845\"}],\"renderers\":[{\"id\":\"6866\"}],\"title\":{\"id\":\"6831\"},\"toolbar\":{\"id\":\"6856\"},\"x_range\":{\"id\":\"6833\"},\"x_scale\":{\"id\":\"6837\"},\"y_range\":{\"id\":\"6835\"},\"y_scale\":{\"id\":\"6839\"}},\"id\":\"6830\",\"subtype\":\"Figure\",\"type\":\"Plot\"},{\"attributes\":{\"axis\":{\"id\":\"6845\"},\"dimension\":1,\"ticker\":null},\"id\":\"6848\",\"type\":\"Grid\"},{\"attributes\":{},\"id\":\"6842\",\"type\":\"BasicTicker\"},{\"attributes\":{\"fill_alpha\":{\"value\":0.1},\"fill_color\":{\"value\":\"blue\"},\"line_alpha\":{\"value\":0.1},\"line_color\":{\"value\":\"blue\"},\"size\":{\"units\":\"screen\",\"value\":9},\"x\":{\"field\":\"x\"},\"y\":{\"field\":\"y\"}},\"id\":\"6865\",\"type\":\"Circle\"},{\"attributes\":{\"data\":{\"x\":[17,65,134,139,18,132,25,132,46,124,30,145,36,141,52,82,164,155,132,23,141,189,125,29,134,52,64,88,92,236,27,28,151,153,135,142,13,128,144,150,162,149,102,153,140,100,30,24,57,75,60,139,60,75,134,193,60,32,91,139,47,65,27,30,127,142,193,158,150,37,142,29,14,157,169,60,186,137,130,189,89,166,23,27,139,20,156,28,35,26,29,139,134,46,89,140,11,60,60,142,201,45,13,204,66,50,62,139,137,24,60,141,51,92,16,146,140,49,90,180,119,10,151,94,138,49,64,75,170,61,77,135,25,30,128,26,136,12,135,22,30,140,28,44,28,69,78,145,19,142,11,136,139,47,59],\"y\":[4,6,10,22,8,6,5,19,8,8,4,8,7,14,10,14,13,18,18,6,16,14,11,6,18,8,11,17,17,22,7,6,16,13,14,16,7,12,20,16,14,19,14,17,16,18,6,5,8,9,5,22,8,7,18,23,10,6,9,20,6,5,3,5,11,19,16,19,14,8,16,5,3,14,14,7,14,17,14,11,14,15,9,8,14,4,17,6,9,2,2,18,19,6,10,18,4,10,3,15,20,9,3,22,12,5,7,18,8,4,5,14,6,10,4,14,19,8,10,14,22,5,21,13,18,7,11,11,15,8,9,18,3,3,15,7,20,2,13,7,7,14,2,5,3,8,9,18,3,13,5,16,15,6,6]},\"selected\":{\"id\":\"7009\"},\"selection_policy\":{\"id\":\"7008\"}},\"id\":\"6863\",\"type\":\"ColumnDataSource\"},{\"attributes\":{\"text\":\"The relationship between moving time of a ride and its popularity\"},\"id\":\"6831\",\"type\":\"Title\"},{\"attributes\":{\"axis_label\":\"Kudos\",\"formatter\":{\"id\":\"7006\"},\"ticker\":{\"id\":\"6846\"}},\"id\":\"6845\",\"type\":\"LinearAxis\"},{\"attributes\":{},\"id\":\"6835\",\"type\":\"DataRange1d\"},{\"attributes\":{\"axis_label\":\"Moving Time\",\"formatter\":{\"id\":\"7004\"},\"ticker\":{\"id\":\"6842\"}},\"id\":\"6841\",\"type\":\"LinearAxis\"},{\"attributes\":{},\"id\":\"6839\",\"type\":\"LinearScale\"},{\"attributes\":{\"data_source\":{\"id\":\"6863\"},\"glyph\":{\"id\":\"6864\"},\"hover_glyph\":null,\"muted_glyph\":null,\"nonselection_glyph\":{\"id\":\"6865\"},\"selection_glyph\":null,\"view\":{\"id\":\"6867\"}},\"id\":\"6866\",\"type\":\"GlyphRenderer\"},{\"attributes\":{\"axis\":{\"id\":\"6841\"},\"ticker\":null},\"id\":\"6844\",\"type\":\"Grid\"},{\"attributes\":{},\"id\":\"6850\",\"type\":\"WheelZoomTool\"},{\"attributes\":{\"fill_alpha\":{\"value\":0.5},\"fill_color\":{\"value\":\"blue\"},\"line_alpha\":{\"value\":0.5},\"line_color\":{\"value\":\"blue\"},\"size\":{\"units\":\"screen\",\"value\":9},\"x\":{\"field\":\"x\"},\"y\":{\"field\":\"y\"}},\"id\":\"6864\",\"type\":\"Circle\"},{\"attributes\":{\"source\":{\"id\":\"6863\"}},\"id\":\"6867\",\"type\":\"CDSView\"},{\"attributes\":{},\"id\":\"6837\",\"type\":\"LinearScale\"},{\"attributes\":{\"bottom_units\":\"screen\",\"fill_alpha\":0.5,\"fill_color\":\"lightgrey\",\"left_units\":\"screen\",\"level\":\"overlay\",\"line_alpha\":1.0,\"line_color\":\"black\",\"line_dash\":[4,4],\"line_width\":2,\"right_units\":\"screen\",\"top_units\":\"screen\"},\"id\":\"6855\",\"type\":\"BoxAnnotation\"},{\"attributes\":{\"active_drag\":\"auto\",\"active_inspect\":\"auto\",\"active_multi\":null,\"active_scroll\":\"auto\",\"active_tap\":\"auto\",\"tools\":[{\"id\":\"6849\"},{\"id\":\"6850\"},{\"id\":\"6851\"},{\"id\":\"6852\"},{\"id\":\"6853\"},{\"id\":\"6854\"}]},\"id\":\"6856\",\"type\":\"Toolbar\"},{\"attributes\":{},\"id\":\"6852\",\"type\":\"SaveTool\"},{\"attributes\":{},\"id\":\"6854\",\"type\":\"HelpTool\"},{\"attributes\":{},\"id\":\"6849\",\"type\":\"PanTool\"},{\"attributes\":{},\"id\":\"7006\",\"type\":\"BasicTickFormatter\"},{\"attributes\":{},\"id\":\"7004\",\"type\":\"BasicTickFormatter\"},{\"attributes\":{\"overlay\":{\"id\":\"6855\"}},\"id\":\"6851\",\"type\":\"BoxZoomTool\"},{\"attributes\":{},\"id\":\"7008\",\"type\":\"UnionRenderers\"},{\"attributes\":{},\"id\":\"6833\",\"type\":\"DataRange1d\"},{\"attributes\":{},\"id\":\"6853\",\"type\":\"ResetTool\"},{\"attributes\":{},\"id\":\"6846\",\"type\":\"BasicTicker\"},{\"attributes\":{},\"id\":\"7009\",\"type\":\"Selection\"}],\"root_ids\":[\"6830\"]},\"title\":\"Bokeh Application\",\"version\":\"2.1.1\"}};\n",
       "  var render_items = [{\"docid\":\"c7d5c8e1-ecd9-4f48-aae9-a98a4fe0545f\",\"root_ids\":[\"6830\"],\"roots\":{\"6830\":\"ec83c58e-fc1e-411d-9e9f-5191d05da7ec\"}}];\n",
       "  root.Bokeh.embed.embed_items_notebook(docs_json, render_items);\n",
       "\n",
       "  }\n",
       "  if (root.Bokeh !== undefined) {\n",
       "    embed_document(root);\n",
       "  } else {\n",
       "    var attempts = 0;\n",
       "    var timer = setInterval(function(root) {\n",
       "      if (root.Bokeh !== undefined) {\n",
       "        clearInterval(timer);\n",
       "        embed_document(root);\n",
       "      } else {\n",
       "        attempts++;\n",
       "        if (attempts > 100) {\n",
       "          clearInterval(timer);\n",
       "          console.log(\"Bokeh: ERROR: Unable to run BokehJS code because BokehJS library is missing\");\n",
       "        }\n",
       "      }\n",
       "    }, 10, root)\n",
       "  }\n",
       "})(window);"
      ],
      "application/vnd.bokehjs_exec.v0+json": ""
     },
     "metadata": {
      "application/vnd.bokehjs_exec.v0+json": {
       "id": "6830"
      }
     },
     "output_type": "display_data"
    }
   ],
   "source": [
    "x_blue = kudos_df.moving_time\n",
    "y_blue = kudos_df.kudos\n",
    "\n",
    "plot = figure(title = 'The relationship between moving time of a ride and its popularity')\n",
    "plot.circle(x_blue, y_blue, size = 9, color = 'blue', alpha = 0.5)\n",
    "\n",
    "plot.xaxis.axis_label=\"Moving Time\"\n",
    "plot.yaxis.axis_label= \"Kudos\"\n",
    "\n",
    "plot.legend.location = \"top_left\"\n",
    "show(plot)"
   ]
  },
  {
   "cell_type": "code",
   "execution_count": 213,
   "metadata": {},
   "outputs": [
    {
     "data": {
      "text/html": [
       "\n",
       "\n",
       "\n",
       "\n",
       "\n",
       "\n",
       "  <div class=\"bk-root\" id=\"7e023ff3-a77c-4b55-935d-15abc2e42fe1\" data-root-id=\"7506\"></div>\n"
      ]
     },
     "metadata": {},
     "output_type": "display_data"
    },
    {
     "data": {
      "application/javascript": [
       "(function(root) {\n",
       "  function embed_document(root) {\n",
       "    \n",
       "  var docs_json = {\"9dda788a-23fa-402b-9b0a-e3bcda2cd6ff\":{\"roots\":{\"references\":[{\"attributes\":{\"below\":[{\"id\":\"7517\"}],\"center\":[{\"id\":\"7520\"},{\"id\":\"7524\"}],\"left\":[{\"id\":\"7521\"}],\"renderers\":[{\"id\":\"7542\"}],\"title\":{\"id\":\"7507\"},\"toolbar\":{\"id\":\"7532\"},\"x_range\":{\"id\":\"7509\"},\"x_scale\":{\"id\":\"7513\"},\"y_range\":{\"id\":\"7511\"},\"y_scale\":{\"id\":\"7515\"}},\"id\":\"7506\",\"subtype\":\"Figure\",\"type\":\"Plot\"},{\"attributes\":{\"active_drag\":\"auto\",\"active_inspect\":\"auto\",\"active_multi\":null,\"active_scroll\":\"auto\",\"active_tap\":\"auto\",\"tools\":[{\"id\":\"7525\"},{\"id\":\"7526\"},{\"id\":\"7527\"},{\"id\":\"7528\"},{\"id\":\"7529\"},{\"id\":\"7530\"}]},\"id\":\"7532\",\"type\":\"Toolbar\"},{\"attributes\":{},\"id\":\"7696\",\"type\":\"BasicTickFormatter\"},{\"attributes\":{\"data_source\":{\"id\":\"7539\"},\"glyph\":{\"id\":\"7540\"},\"hover_glyph\":null,\"muted_glyph\":null,\"nonselection_glyph\":{\"id\":\"7541\"},\"selection_glyph\":null,\"view\":{\"id\":\"7543\"}},\"id\":\"7542\",\"type\":\"GlyphRenderer\"},{\"attributes\":{\"axis\":{\"id\":\"7517\"},\"ticker\":null},\"id\":\"7520\",\"type\":\"Grid\"},{\"attributes\":{},\"id\":\"7526\",\"type\":\"WheelZoomTool\"},{\"attributes\":{\"axis_label\":\"Kudos\",\"formatter\":{\"id\":\"7698\"},\"ticker\":{\"id\":\"7522\"}},\"id\":\"7521\",\"type\":\"LinearAxis\"},{\"attributes\":{\"overlay\":{\"id\":\"7531\"}},\"id\":\"7527\",\"type\":\"BoxZoomTool\"},{\"attributes\":{},\"id\":\"7511\",\"type\":\"DataRange1d\"},{\"attributes\":{\"bottom_units\":\"screen\",\"fill_alpha\":0.5,\"fill_color\":\"lightgrey\",\"left_units\":\"screen\",\"level\":\"overlay\",\"line_alpha\":1.0,\"line_color\":\"black\",\"line_dash\":[4,4],\"line_width\":2,\"right_units\":\"screen\",\"top_units\":\"screen\"},\"id\":\"7531\",\"type\":\"BoxAnnotation\"},{\"attributes\":{\"fill_alpha\":{\"value\":0.5},\"fill_color\":{\"value\":\"black\"},\"line_alpha\":{\"value\":0.5},\"size\":{\"units\":\"screen\",\"value\":9},\"x\":{\"field\":\"x\"},\"y\":{\"field\":\"y\"}},\"id\":\"7540\",\"type\":\"Circle\"},{\"attributes\":{\"fill_alpha\":{\"value\":0.1},\"fill_color\":{\"value\":\"black\"},\"line_alpha\":{\"value\":0.1},\"size\":{\"units\":\"screen\",\"value\":9},\"x\":{\"field\":\"x\"},\"y\":{\"field\":\"y\"}},\"id\":\"7541\",\"type\":\"Circle\"},{\"attributes\":{},\"id\":\"7513\",\"type\":\"LinearScale\"},{\"attributes\":{\"text\":\"The relationship between TSS of a ride and its popularity\"},\"id\":\"7507\",\"type\":\"Title\"},{\"attributes\":{},\"id\":\"7515\",\"type\":\"LinearScale\"},{\"attributes\":{},\"id\":\"7530\",\"type\":\"HelpTool\"},{\"attributes\":{},\"id\":\"7522\",\"type\":\"BasicTicker\"},{\"attributes\":{},\"id\":\"7518\",\"type\":\"BasicTicker\"},{\"attributes\":{},\"id\":\"7700\",\"type\":\"UnionRenderers\"},{\"attributes\":{},\"id\":\"7529\",\"type\":\"ResetTool\"},{\"attributes\":{},\"id\":\"7528\",\"type\":\"SaveTool\"},{\"attributes\":{},\"id\":\"7701\",\"type\":\"Selection\"},{\"attributes\":{},\"id\":\"7698\",\"type\":\"BasicTickFormatter\"},{\"attributes\":{\"axis_label\":\"Training Stress Score\",\"formatter\":{\"id\":\"7696\"},\"ticker\":{\"id\":\"7518\"}},\"id\":\"7517\",\"type\":\"LinearAxis\"},{\"attributes\":{\"axis\":{\"id\":\"7521\"},\"dimension\":1,\"ticker\":null},\"id\":\"7524\",\"type\":\"Grid\"},{\"attributes\":{\"data\":{\"x\":{\"__ndarray__\":\"C7Wmecc5NED+Q/rt65RYQNEi2/l+YmVAL90kBoF5YkD4U+Olm4QvQLpJDAIrf2NAMnctIR+0PkBOYhBYOVBjQA+cM6K0l0hAEoPAyqGxZUACK4cW2R41QOxRuB6F92NAqMZLN4m5QUDkpZvEIKxoQOxRuB6Fu1BAwhcmUwUjVED6fmq8dP9gQCcxCKwcSmNAXrpJDAI/cEC0yHa+n/o0QF66SQwCR2NAyqFFtvOdaUDZzvdT4xlkQDvfT42XDj9A16NwPQpzZUAp7Q2+MIVTQJ2AJsKGV01Aarx0kxg8ZUAoDwu1polYQG3n+6nxDm9AnDOitDfYPEDnjCjtDT5AQCUGgZVDr2JANV66SQymYUDLoUW283ljQO+nxks3UWVAZDvfT403KkBzaJHtfG9rQBKDwMqhBVxAGARWDi2yYEBGtvP91PhgQKwcWmQ7A2BAH4XrUbhqaUCPwvUoXHtxQDq0yHa+L2ZA4XoUrkfhWkAW+8vuyaMrQL6fGi/dVDdA4JwRpb3ZRkDysFBrmo9UQGB2Tx4WzlJAoBov3SRuZEAnoImw4YFOQB6n6Egu+1BAhxbZzvc3ZEDUeOkmMbhsQNxoAG+BNDtAK4cW2c43QEAEVg4tsnFVQNNNYhBY/WFA2T15WKjNQkBVwaikThBGQDlFR3L5vz9AvJaQD3qWQEC28/3UeGVnQBODwMqhUWRA+FPjpZvoaUCd76fGS59mQOOlm8QglGNAImx4eqU0QUDRItv5fiZmQFOWIY518TtAG55eKcuwL0CS7Xw/NYJkQEW28/3UUGlAVOOlm8QgWkDKoUW284FrQEjhehSuO2ZAKVyPwvX8YEB0kxgEVopmQFafq63Yg1VA9ihcj8JlZEAPnDOitH9BQPFjzF1LGD9Axks3iUHoZUADCYofY745QIxs5/up8WdA1JrmHaeYP0BtVn2utkI6QAAAAAAAAAAAAAAAAAAAAADNzMzMzBxgQHNoke18D2RAklz+Q/o9SUB6xyk6kgNMQOF6FK5H+WRANl66SQxCK0AUP8bctWxEQIgW2c7340dAF9nO91P3ZEBBYOXQIsF5QFfsL7snb0FAVcGopE5AJkDTTWIQWBd4QKrx0k1i6FpAgZVDi2wXSEAvbqMBvP1OQIPAyqFF9mZAAAAAAAAAAAD+Q/rt64A/QNGRXP5DDlJAyqFFtvNVaEA7AU2EDf9GQHL5D+m3z0hAxSCwcmhxN0BWDi2ynWdmQKFFtvP9WGZA0SLb+X7ySkAzMzMzM7tOQAAAAAAAAAAARIts5/sVY0ChZ7Pqc/UcQLx0kxgEimlAvHSTGAQuXUCgGi/dJAZoQFwgQfFjBElAsXJoke1MR0APnDOitBdTQKAaL90kMmhAn82qz9WWVEBqTfOOU4BYQJLtfD81vmZAidLe4AsTLkBy+Q/pt18+QOXQItv5EmZALv8h/fY9QkBOYhBYOZxkQLdif9k9GShAXrpJDAJ3ZEBTBaOSOlE+QLMMcayLI0FAUrgeheutZkD0/dR46dY3QLu4jQbwvkhAj+TyH9JfP0DVeOkmMaBTQI/k8h/SH0dAd76fGi85ZkCgibDh6aU0QIlBYOXQwmhAbqMBvAXSJkBWDi2ynetjQM/3U+Ol42ZA93XgnBGVSUA3iUFg5VhCQA==\",\"dtype\":\"float64\",\"order\":\"little\",\"shape\":[155]},\"y\":[4,6,10,22,8,6,5,19,8,8,4,8,7,14,10,14,13,18,18,6,16,14,11,6,18,8,11,17,17,22,7,6,16,13,14,16,7,12,20,16,14,19,14,17,16,18,6,5,8,9,5,22,8,7,18,23,10,6,9,20,6,5,3,5,11,19,16,19,14,8,16,5,3,14,14,7,14,17,14,11,14,15,9,8,14,4,17,6,9,2,2,18,19,6,10,18,4,10,3,15,20,9,3,22,12,5,7,18,8,4,5,14,6,10,4,14,19,8,10,14,22,5,21,13,18,7,11,11,15,8,9,18,3,3,15,7,20,2,13,7,7,14,2,5,3,8,9,18,3,13,5,16,15,6,6]},\"selected\":{\"id\":\"7701\"},\"selection_policy\":{\"id\":\"7700\"}},\"id\":\"7539\",\"type\":\"ColumnDataSource\"},{\"attributes\":{\"source\":{\"id\":\"7539\"}},\"id\":\"7543\",\"type\":\"CDSView\"},{\"attributes\":{},\"id\":\"7525\",\"type\":\"PanTool\"},{\"attributes\":{},\"id\":\"7509\",\"type\":\"DataRange1d\"}],\"root_ids\":[\"7506\"]},\"title\":\"Bokeh Application\",\"version\":\"2.1.1\"}};\n",
       "  var render_items = [{\"docid\":\"9dda788a-23fa-402b-9b0a-e3bcda2cd6ff\",\"root_ids\":[\"7506\"],\"roots\":{\"7506\":\"7e023ff3-a77c-4b55-935d-15abc2e42fe1\"}}];\n",
       "  root.Bokeh.embed.embed_items_notebook(docs_json, render_items);\n",
       "\n",
       "  }\n",
       "  if (root.Bokeh !== undefined) {\n",
       "    embed_document(root);\n",
       "  } else {\n",
       "    var attempts = 0;\n",
       "    var timer = setInterval(function(root) {\n",
       "      if (root.Bokeh !== undefined) {\n",
       "        clearInterval(timer);\n",
       "        embed_document(root);\n",
       "      } else {\n",
       "        attempts++;\n",
       "        if (attempts > 100) {\n",
       "          clearInterval(timer);\n",
       "          console.log(\"Bokeh: ERROR: Unable to run BokehJS code because BokehJS library is missing\");\n",
       "        }\n",
       "      }\n",
       "    }, 10, root)\n",
       "  }\n",
       "})(window);"
      ],
      "application/vnd.bokehjs_exec.v0+json": ""
     },
     "metadata": {
      "application/vnd.bokehjs_exec.v0+json": {
       "id": "7506"
      }
     },
     "output_type": "display_data"
    }
   ],
   "source": [
    "x_black = kudos_df.TSS\n",
    "y_black = kudos_df.kudos\n",
    "\n",
    "plot = figure(title = 'The relationship between TSS of a ride and its popularity')\n",
    "plot.circle(x_black, y_black, size = 9, color = 'black', alpha = 0.5)\n",
    "\n",
    "plot.xaxis.axis_label=\"Training Stress Score\"\n",
    "plot.yaxis.axis_label= \"Kudos\"\n",
    "\n",
    "plot.legend.location = \"top_left\"\n",
    "show(plot)"
   ]
  },
  {
   "cell_type": "markdown",
   "metadata": {},
   "source": [
    "## An overall summary of activity each month over the period 2018-2019"
   ]
  },
  {
   "cell_type": "code",
   "execution_count": 306,
   "metadata": {},
   "outputs": [],
   "source": [
    "#Re-generate Ride data with datetime index\n",
    "RideDf = complete_df[complete_df.workout_type == \"Ride\"]"
   ]
  },
  {
   "cell_type": "code",
   "execution_count": 307,
   "metadata": {},
   "outputs": [
    {
     "data": {
      "text/plain": [
       "DatetimeIndex(['2018-01-27 19:39:49+00:00', '2018-02-05 21:06:42+00:00',\n",
       "               '2018-02-07 06:59:05+00:00', '2018-02-09 19:18:03+00:00',\n",
       "               '2018-02-10 20:21:37+00:00', '2018-02-14 20:07:12+00:00',\n",
       "               '2018-02-15 07:18:46+00:00', '2018-02-16 19:19:04+00:00',\n",
       "               '2018-02-17 19:06:26+00:00', '2018-02-21 20:03:53+00:00',\n",
       "               ...\n",
       "               '2019-06-28 22:11:35+00:00', '2019-06-29 01:58:23+00:00',\n",
       "               '2019-07-05 20:17:50+00:00', '2019-07-06 21:24:37+00:00',\n",
       "               '2019-07-12 20:18:22+00:00', '2019-07-13 20:40:12+00:00',\n",
       "               '2019-07-19 20:22:49+00:00', '2019-07-26 20:12:56+00:00',\n",
       "               '2019-07-27 20:42:59+00:00', '2019-07-27 23:55:13+00:00'],\n",
       "              dtype='datetime64[ns, UTC]', length=155, freq=None)"
      ]
     },
     "execution_count": 307,
     "metadata": {},
     "output_type": "execute_result"
    }
   ],
   "source": [
    "RideDf.index"
   ]
  },
  {
   "cell_type": "code",
   "execution_count": 308,
   "metadata": {},
   "outputs": [],
   "source": [
    "RideDf['month'] = pd.to_datetime(RideDf.index).month"
   ]
  },
  {
   "cell_type": "code",
   "execution_count": 351,
   "metadata": {},
   "outputs": [],
   "source": [
    "monthly_df=RideDf.groupby(pd.Grouper(freq=\"M\")).sum()"
   ]
  },
  {
   "cell_type": "code",
   "execution_count": 354,
   "metadata": {},
   "outputs": [
    {
     "data": {
      "text/plain": [
       "DatetimeIndex(['2018-01-31 00:00:00+00:00', '2018-02-28 00:00:00+00:00',\n",
       "               '2018-03-31 00:00:00+00:00', '2018-04-30 00:00:00+00:00',\n",
       "               '2018-05-31 00:00:00+00:00', '2018-06-30 00:00:00+00:00',\n",
       "               '2018-07-31 00:00:00+00:00', '2018-08-31 00:00:00+00:00',\n",
       "               '2018-09-30 00:00:00+00:00', '2018-10-31 00:00:00+00:00',\n",
       "               '2018-11-30 00:00:00+00:00', '2018-12-31 00:00:00+00:00',\n",
       "               '2019-01-31 00:00:00+00:00', '2019-02-28 00:00:00+00:00',\n",
       "               '2019-03-31 00:00:00+00:00', '2019-04-30 00:00:00+00:00',\n",
       "               '2019-05-31 00:00:00+00:00', '2019-06-30 00:00:00+00:00',\n",
       "               '2019-07-31 00:00:00+00:00'],\n",
       "              dtype='datetime64[ns, UTC]', freq='M')"
      ]
     },
     "execution_count": 354,
     "metadata": {},
     "output_type": "execute_result"
    }
   ],
   "source": [
    "monthly_df.index"
   ]
  },
  {
   "cell_type": "code",
   "execution_count": 356,
   "metadata": {},
   "outputs": [],
   "source": [
    "monthly_df['Average_Of_AverageSpeed']=RideDf[['average_speed']].groupby(pd.Grouper(freq=\"M\")).mean()"
   ]
  },
  {
   "cell_type": "code",
   "execution_count": 357,
   "metadata": {},
   "outputs": [
    {
     "data": {
      "text/html": [
       "<div>\n",
       "<style scoped>\n",
       "    .dataframe tbody tr th:only-of-type {\n",
       "        vertical-align: middle;\n",
       "    }\n",
       "\n",
       "    .dataframe tbody tr th {\n",
       "        vertical-align: top;\n",
       "    }\n",
       "\n",
       "    .dataframe thead th {\n",
       "        text-align: right;\n",
       "    }\n",
       "</style>\n",
       "<table border=\"1\" class=\"dataframe\">\n",
       "  <thead>\n",
       "    <tr style=\"text-align: right;\">\n",
       "      <th></th>\n",
       "      <th>average_heartrate</th>\n",
       "      <th>average_temp</th>\n",
       "      <th>average_watts</th>\n",
       "      <th>distance</th>\n",
       "      <th>elapsed_time</th>\n",
       "      <th>kudos</th>\n",
       "      <th>moving_time</th>\n",
       "      <th>axPower</th>\n",
       "      <th>aPower Relative Intensity</th>\n",
       "      <th>aBikeScore</th>\n",
       "      <th>...</th>\n",
       "      <th>Rest LF</th>\n",
       "      <th>Rest HF</th>\n",
       "      <th>HRV Recovery Points</th>\n",
       "      <th>NP</th>\n",
       "      <th>IF</th>\n",
       "      <th>TSS</th>\n",
       "      <th>average_speed</th>\n",
       "      <th>elevation_gain_new</th>\n",
       "      <th>month</th>\n",
       "      <th>Average_Of_AverageSpeed</th>\n",
       "    </tr>\n",
       "  </thead>\n",
       "  <tbody>\n",
       "    <tr>\n",
       "      <th>2018-01-31 00:00:00+00:00</th>\n",
       "      <td>120.6</td>\n",
       "      <td>21.0</td>\n",
       "      <td>153.4</td>\n",
       "      <td>7.6</td>\n",
       "      <td>17</td>\n",
       "      <td>4</td>\n",
       "      <td>17</td>\n",
       "      <td>202.211</td>\n",
       "      <td>0.75452</td>\n",
       "      <td>16.6520</td>\n",
       "      <td>...</td>\n",
       "      <td>0</td>\n",
       "      <td>0</td>\n",
       "      <td>0</td>\n",
       "      <td>222.856</td>\n",
       "      <td>0.83155</td>\n",
       "      <td>20.2257</td>\n",
       "      <td>0.447059</td>\n",
       "      <td>95.0</td>\n",
       "      <td>1</td>\n",
       "      <td>0.447059</td>\n",
       "    </tr>\n",
       "    <tr>\n",
       "      <th>2018-02-28 00:00:00+00:00</th>\n",
       "      <td>1084.8</td>\n",
       "      <td>206.0</td>\n",
       "      <td>1599.2</td>\n",
       "      <td>380.9</td>\n",
       "      <td>1181</td>\n",
       "      <td>104</td>\n",
       "      <td>990</td>\n",
       "      <td>2173.241</td>\n",
       "      <td>8.10911</td>\n",
       "      <td>1045.5757</td>\n",
       "      <td>...</td>\n",
       "      <td>0</td>\n",
       "      <td>0</td>\n",
       "      <td>0</td>\n",
       "      <td>2401.920</td>\n",
       "      <td>8.96238</td>\n",
       "      <td>1177.7372</td>\n",
       "      <td>4.212102</td>\n",
       "      <td>6139.0</td>\n",
       "      <td>22</td>\n",
       "      <td>0.382918</td>\n",
       "    </tr>\n",
       "    <tr>\n",
       "      <th>2018-03-31 00:00:00+00:00</th>\n",
       "      <td>1027.4</td>\n",
       "      <td>181.0</td>\n",
       "      <td>1549.1</td>\n",
       "      <td>453.2</td>\n",
       "      <td>1454</td>\n",
       "      <td>130</td>\n",
       "      <td>1115</td>\n",
       "      <td>1974.620</td>\n",
       "      <td>7.36800</td>\n",
       "      <td>1125.3661</td>\n",
       "      <td>...</td>\n",
       "      <td>0</td>\n",
       "      <td>0</td>\n",
       "      <td>0</td>\n",
       "      <td>2189.258</td>\n",
       "      <td>8.16887</td>\n",
       "      <td>1310.6767</td>\n",
       "      <td>4.013850</td>\n",
       "      <td>4742.0</td>\n",
       "      <td>30</td>\n",
       "      <td>0.401385</td>\n",
       "    </tr>\n",
       "    <tr>\n",
       "      <th>2018-04-30 00:00:00+00:00</th>\n",
       "      <td>880.4</td>\n",
       "      <td>182.0</td>\n",
       "      <td>1589.2</td>\n",
       "      <td>358.4</td>\n",
       "      <td>1030</td>\n",
       "      <td>123</td>\n",
       "      <td>875</td>\n",
       "      <td>2055.969</td>\n",
       "      <td>7.67154</td>\n",
       "      <td>982.7914</td>\n",
       "      <td>...</td>\n",
       "      <td>0</td>\n",
       "      <td>0</td>\n",
       "      <td>0</td>\n",
       "      <td>2256.757</td>\n",
       "      <td>8.42074</td>\n",
       "      <td>1078.0511</td>\n",
       "      <td>3.800322</td>\n",
       "      <td>5042.0</td>\n",
       "      <td>40</td>\n",
       "      <td>0.380032</td>\n",
       "    </tr>\n",
       "    <tr>\n",
       "      <th>2018-05-31 00:00:00+00:00</th>\n",
       "      <td>220.0</td>\n",
       "      <td>21.0</td>\n",
       "      <td>413.7</td>\n",
       "      <td>176.6</td>\n",
       "      <td>606</td>\n",
       "      <td>43</td>\n",
       "      <td>439</td>\n",
       "      <td>546.599</td>\n",
       "      <td>2.03955</td>\n",
       "      <td>367.1340</td>\n",
       "      <td>...</td>\n",
       "      <td>0</td>\n",
       "      <td>0</td>\n",
       "      <td>0</td>\n",
       "      <td>623.897</td>\n",
       "      <td>2.32797</td>\n",
       "      <td>446.4770</td>\n",
       "      <td>1.210040</td>\n",
       "      <td>1871.0</td>\n",
       "      <td>15</td>\n",
       "      <td>0.403347</td>\n",
       "    </tr>\n",
       "  </tbody>\n",
       "</table>\n",
       "<p>5 rows × 370 columns</p>\n",
       "</div>"
      ],
      "text/plain": [
       "                           average_heartrate  average_temp  average_watts  \\\n",
       "2018-01-31 00:00:00+00:00              120.6          21.0          153.4   \n",
       "2018-02-28 00:00:00+00:00             1084.8         206.0         1599.2   \n",
       "2018-03-31 00:00:00+00:00             1027.4         181.0         1549.1   \n",
       "2018-04-30 00:00:00+00:00              880.4         182.0         1589.2   \n",
       "2018-05-31 00:00:00+00:00              220.0          21.0          413.7   \n",
       "\n",
       "                           distance  elapsed_time  kudos  moving_time  \\\n",
       "2018-01-31 00:00:00+00:00       7.6            17      4           17   \n",
       "2018-02-28 00:00:00+00:00     380.9          1181    104          990   \n",
       "2018-03-31 00:00:00+00:00     453.2          1454    130         1115   \n",
       "2018-04-30 00:00:00+00:00     358.4          1030    123          875   \n",
       "2018-05-31 00:00:00+00:00     176.6           606     43          439   \n",
       "\n",
       "                            axPower  aPower Relative Intensity  aBikeScore  \\\n",
       "2018-01-31 00:00:00+00:00   202.211                    0.75452     16.6520   \n",
       "2018-02-28 00:00:00+00:00  2173.241                    8.10911   1045.5757   \n",
       "2018-03-31 00:00:00+00:00  1974.620                    7.36800   1125.3661   \n",
       "2018-04-30 00:00:00+00:00  2055.969                    7.67154    982.7914   \n",
       "2018-05-31 00:00:00+00:00   546.599                    2.03955    367.1340   \n",
       "\n",
       "                           ...  Rest LF  Rest HF  HRV Recovery Points  \\\n",
       "2018-01-31 00:00:00+00:00  ...        0        0                    0   \n",
       "2018-02-28 00:00:00+00:00  ...        0        0                    0   \n",
       "2018-03-31 00:00:00+00:00  ...        0        0                    0   \n",
       "2018-04-30 00:00:00+00:00  ...        0        0                    0   \n",
       "2018-05-31 00:00:00+00:00  ...        0        0                    0   \n",
       "\n",
       "                                 NP       IF        TSS  average_speed  \\\n",
       "2018-01-31 00:00:00+00:00   222.856  0.83155    20.2257       0.447059   \n",
       "2018-02-28 00:00:00+00:00  2401.920  8.96238  1177.7372       4.212102   \n",
       "2018-03-31 00:00:00+00:00  2189.258  8.16887  1310.6767       4.013850   \n",
       "2018-04-30 00:00:00+00:00  2256.757  8.42074  1078.0511       3.800322   \n",
       "2018-05-31 00:00:00+00:00   623.897  2.32797   446.4770       1.210040   \n",
       "\n",
       "                           elevation_gain_new  month  Average_Of_AverageSpeed  \n",
       "2018-01-31 00:00:00+00:00                95.0      1                 0.447059  \n",
       "2018-02-28 00:00:00+00:00              6139.0     22                 0.382918  \n",
       "2018-03-31 00:00:00+00:00              4742.0     30                 0.401385  \n",
       "2018-04-30 00:00:00+00:00              5042.0     40                 0.380032  \n",
       "2018-05-31 00:00:00+00:00              1871.0     15                 0.403347  \n",
       "\n",
       "[5 rows x 370 columns]"
      ]
     },
     "execution_count": 357,
     "metadata": {},
     "output_type": "execute_result"
    }
   ],
   "source": [
    "monthly_df.head()"
   ]
  },
  {
   "cell_type": "code",
   "execution_count": 358,
   "metadata": {},
   "outputs": [
    {
     "data": {
      "text/plain": [
       "<matplotlib.legend.Legend at 0x7f840929d0d0>"
      ]
     },
     "execution_count": 358,
     "metadata": {},
     "output_type": "execute_result"
    },
    {
     "data": {
      "image/png": "[encoded data removed]",
      "text/plain": [
       "<Figure size 792x432 with 3 Axes>"
      ]
     },
     "metadata": {
      "needs_background": "light"
     },
     "output_type": "display_data"
    }
   ],
   "source": [
    "import matplotlib.pyplot as plt\n",
    "import numpy as np\n",
    "from pandas import DataFrame\n",
    "from matplotlib.dates import DateFormatter\n",
    "df = monthly_df[['distance','TSS', 'Average_Of_AverageSpeed']]\n",
    "\n",
    "fig, ax = plt.subplots(figsize = (11,6))\n",
    "df.distance.plot(ax=ax, color = 'blue', label= 'Total Distance')\n",
    "\n",
    "ax2 = ax.twinx()\n",
    "df.TSS.plot(ax=ax2, color = 'red', label = 'Total Training Stress Score')\n",
    "\n",
    "ax3 = ax.twinx()\n",
    "rspine = ax3.spines['right']\n",
    "rspine.set_position(('axes', 1.15))\n",
    "ax3.set_frame_on(True)\n",
    "ax3.patch.set_visible(False)\n",
    "fig.subplots_adjust(right=0.7)\n",
    "df.Average_Of_AverageSpeed.plot(ax=ax3, color= 'green', label = 'Average Speed')\n",
    "ax.set_ylabel('Km')\n",
    "ax2.set_ylabel('TSS')\n",
    "ax3.set_ylabel('Average Speed')\n",
    "\n",
    "ax.legend(bbox_to_anchor=(1.5, 1))\n",
    "ax2.legend(bbox_to_anchor=(1.6, 0.9))\n",
    "ax3.legend(bbox_to_anchor=(1.5, 0.8))"
   ]
  },
  {
   "cell_type": "markdown",
   "metadata": {},
   "source": [
    "## An overall summary of activity of Jan 2019"
   ]
  },
  {
   "cell_type": "code",
   "execution_count": 345,
   "metadata": {},
   "outputs": [
    {
     "name": "stdout",
     "output_type": "stream",
     "text": [
      "                           average_heartrate  average_temp  average_watts  \\\n",
      "2019-01-01 19:02:50+00:00              110.9          21.0          131.9   \n",
      "2019-01-03 05:59:11+00:00              118.6          23.0          126.0   \n",
      "2019-01-04 19:08:10+00:00              121.4          25.0          139.7   \n",
      "2019-01-08 19:56:34+00:00              117.8          18.0          152.9   \n",
      "2019-01-08 20:24:02+00:00              124.9           NaN          103.7   \n",
      "\n",
      "                          device_watts  distance  elapsed_time elevation_gain  \\\n",
      "2019-01-01 19:02:50+00:00         True      72.6           242       680.00 m   \n",
      "2019-01-03 05:59:11+00:00         True      33.1           101       332.00 m   \n",
      "2019-01-04 19:08:10+00:00         True      68.0           224       575.00 m   \n",
      "2019-01-08 19:56:34+00:00         True       8.2            83       186.00 m   \n",
      "2019-01-08 20:24:02+00:00         True       9.7            27       186.60 m   \n",
      "\n",
      "                           kudos  moving_time workout_type  ... Rest PNN50  \\\n",
      "2019-01-01 19:02:50+00:00     11          189         Ride  ...          0   \n",
      "2019-01-03 05:59:11+00:00     14           89         Ride  ...          0   \n",
      "2019-01-04 19:08:10+00:00     15          166         Ride  ...          0   \n",
      "2019-01-08 19:56:34+00:00      9           23         Ride  ...          0   \n",
      "2019-01-08 20:24:02+00:00      8           27         Ride  ...          0   \n",
      "\n",
      "                          Rest LF Rest HF  HRV Recovery Points       NP  \\\n",
      "2019-01-01 19:02:50+00:00       0       0                    0  201.276   \n",
      "2019-01-03 05:59:11+00:00       0       0                    0  202.941   \n",
      "2019-01-04 19:08:10+00:00       0       0                    0  205.234   \n",
      "2019-01-08 19:56:34+00:00       0       0                    0  253.067   \n",
      "2019-01-08 20:24:02+00:00       0       0                    0  220.343   \n",
      "\n",
      "                                IF       TSS  average_speed  \\\n",
      "2019-01-01 19:02:50+00:00  0.75103  180.3230       0.384127   \n",
      "2019-01-03 05:59:11+00:00  0.75724   86.0601       0.371910   \n",
      "2019-01-04 19:08:10+00:00  0.76580  163.1800       0.409639   \n",
      "2019-01-08 19:56:34+00:00  0.94428   34.9977       0.356522   \n",
      "2019-01-08 20:24:02+00:00  0.82218   31.0949       0.359259   \n",
      "\n",
      "                           elevation_gain_new  month  \n",
      "2019-01-01 19:02:50+00:00               680.0      1  \n",
      "2019-01-03 05:59:11+00:00               332.0      1  \n",
      "2019-01-04 19:08:10+00:00               575.0      1  \n",
      "2019-01-08 19:56:34+00:00               186.0      1  \n",
      "2019-01-08 20:24:02+00:00               186.6      1  \n",
      "\n",
      "[5 rows x 375 columns]\n",
      "(12, 375)\n"
     ]
    }
   ],
   "source": [
    "#Get data for the period of January 2019\n",
    "janDf = RideDf.loc['2019-01-01':'2019-01-31']\n",
    "print(janDf.head())\n",
    "print(janDf.shape)"
   ]
  },
  {
   "cell_type": "code",
   "execution_count": 346,
   "metadata": {},
   "outputs": [],
   "source": [
    "janDf['Date'] = janDf.index.date"
   ]
  },
  {
   "cell_type": "code",
   "execution_count": 347,
   "metadata": {},
   "outputs": [
    {
     "name": "stdout",
     "output_type": "stream",
     "text": [
      "(11, 12)\n"
     ]
    }
   ],
   "source": [
    "daily_df=janDf.groupby(['Date']).sum()\n",
    "daily_df['Average_Of_AverageSpeed']=janDf[['Date','average_speed']].groupby(['Date']).mean()\n",
    "print(daily_df.shape)"
   ]
  },
  {
   "cell_type": "code",
   "execution_count": 349,
   "metadata": {},
   "outputs": [
    {
     "data": {
      "text/plain": [
       "<matplotlib.legend.Legend at 0x7f8408f43670>"
      ]
     },
     "execution_count": 349,
     "metadata": {},
     "output_type": "execute_result"
    },
    {
     "data": {
      "image/png": "[encoded data removed]",
      "text/plain": [
       "<Figure size 1080x432 with 3 Axes>"
      ]
     },
     "metadata": {
      "needs_background": "light"
     },
     "output_type": "display_data"
    }
   ],
   "source": [
    "df = daily_df[['distance','TSS', 'Average_Of_AverageSpeed']]\n",
    "\n",
    "fig, ax = plt.subplots(figsize = (15,6))\n",
    "df.distance.plot(ax=ax, color = 'blue', label= 'Total Distance')\n",
    "\n",
    "ax2 = ax.twinx()\n",
    "df.TSS.plot(ax=ax2, color = 'red', label = 'Total Training Stress Score')\n",
    "\n",
    "ax3 = ax.twinx()\n",
    "rspine = ax3.spines['right']\n",
    "rspine.set_position(('axes', 1.15))\n",
    "ax3.set_frame_on(True)\n",
    "ax3.patch.set_visible(False)\n",
    "fig.subplots_adjust(right=0.7)\n",
    "df.Average_Of_AverageSpeed.plot(ax=ax3, color= 'green', label = 'Average Speed')\n",
    "ax.set_ylabel('Km')\n",
    "ax2.set_ylabel('TSS')\n",
    "ax3.set_ylabel('Average Speed')\n",
    "\n",
    "ax.legend(bbox_to_anchor=(1.5, 1))\n",
    "ax2.legend(bbox_to_anchor=(1.6, 0.9))\n",
    "ax3.legend(bbox_to_anchor=(1.5, 0.8))"
   ]
  },
  {
   "cell_type": "markdown",
   "metadata": {},
   "source": [
    "In conclusion, via analysis, this project has shown the distrution of Heart Rate, and Average Power is normally distributed while most other variables' distributions are skewed. The strong relationships between Distance, Moving Time, Training Stress Score, Elevation Gain, Average Speed, and Heart Rate are also discovered.The differences between 3 categories: Ride, Workout, and Race has been demonstrated regarding distance, training stress score, and average_heartrate variables. The project has also found that temperature is negatively correlated with distance, and average speed. Additionally, Distance, Moving Time, and Training Stress Scored are positively correlated with kudos, with rides with longer distance and moving time being more popular. Lastly, the project has illustrated an over summary of activity over the period 2018-2019, and the period of Jan 2019, with the number of km ridden each month, the sum of the Training Stress Score, and the average of the Average Speed.\n",
    "\n"
   ]
  },
  {
   "cell_type": "code",
   "execution_count": null,
   "metadata": {},
   "outputs": [],
   "source": []
  }
 ],
 "metadata": {
  "kernelspec": {
   "display_name": "Python 3",
   "language": "python",
   "name": "python3"
  },
  "language_info": {
   "codemirror_mode": {
    "name": "ipython",
    "version": 3
   },
   "file_extension": ".py",
   "mimetype": "text/x-python",
   "name": "python",
   "nbconvert_exporter": "python",
   "pygments_lexer": "ipython3",
   "version": "3.8.3"
  }
 },
 "nbformat": 4,
 "nbformat_minor": 2
}
